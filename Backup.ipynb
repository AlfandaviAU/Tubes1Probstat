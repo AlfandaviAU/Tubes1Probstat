{
  "nbformat": 4,
  "nbformat_minor": 0,
  "metadata": {
    "colab": {
      "name": "Backup.ipynb",
      "provenance": [],
      "collapsed_sections": []
    },
    "kernelspec": {
      "name": "python3",
      "display_name": "Python 3"
    },
    "language_info": {
      "name": "python"
    }
  },
  "cells": [
    {
      "cell_type": "code",
      "metadata": {
        "colab": {
          "base_uri": "https://localhost:8080/"
        },
        "id": "sMogh7BXb4rI",
        "outputId": "980fffa3-d79a-4514-9464-6daaa9c6c050"
      },
      "source": [
        "import pandas as pd\n",
        "import numpy as np\n",
        "\n",
        "# Read filenya\n",
        "df = pd.read_csv (r'Gandum.csv')\n",
        "print(len(df))\n",
        "print (df)\n",
        "\n",
        "\n",
        "def describe(df):\n",
        "    print( pd.concat([df.describe().T,\n",
        "                      df.var().rename('variansi'),\n",
        "                      df.median().rename('median'),\n",
        "                      df.skew().rename('skewness'),\n",
        "                      df.kurt().rename('kurtosis'),\n",
        "                     ], axis=1).T)\n",
        "    print(\"\\nDATA MODUS \")\n",
        "    print(df.mode())\n",
        "\n",
        "    print(\"\\nDATA RANGE \")\n",
        "    minimum = df.min()\n",
        "    maksimum = df.max()\n",
        "    print(maksimum-minimum)\n",
        "\n",
        "    print(\"\\nDATA IQR \")\n",
        "    Q1 = df.quantile(0.25)\n",
        "    Q3 = df.quantile(0.75)\n",
        "    IQR = Q3 - Q1\n",
        "    print(IQR)\n",
        "    \n",
        "\n",
        "describe(df)\n"
      ],
      "execution_count": 30,
      "outputs": [
        {
          "output_type": "stream",
          "text": [
            "500\n",
            "      id  Daerah  SumbuUtama  SumbuKecil  ...  Keliling   Bulatan    Ransum  Kelas\n",
            "0      1    5781  128.288875   58.470846  ...   316.756  0.724041  2.194066      1\n",
            "1      2    4176  109.348294   49.837688  ...   260.346  0.774227  2.194088      1\n",
            "2      3    4555  114.427991   52.151207  ...   279.606  0.732159  2.194158      1\n",
            "3      4    4141  108.701191   49.457349  ...   260.478  0.766960  2.197877      1\n",
            "4      5    5273  122.747869   55.757848  ...   302.730  0.723031  2.201446      1\n",
            "..   ...     ...         ...         ...  ...       ...       ...       ...    ...\n",
            "495  496    5083  120.083450   54.821580  ...   286.377  0.778850  2.190441      2\n",
            "496  497    4432  112.367050   51.294914  ...   270.823  0.759344  2.190608      2\n",
            "497  498    5020  119.873742   54.718545  ...   285.799  0.772311  2.190733      2\n",
            "498  499    4035  107.311728   48.930802  ...   258.503  0.758791  2.193132      2\n",
            "499  500    3379   99.014789   44.631551  ...   237.593  0.752196  2.218493      2\n",
            "\n",
            "[500 rows x 12 columns]\n",
            "                    id         Daerah  ...      Ransum       Kelas\n",
            "count       500.000000     500.000000  ...  500.000000  500.000000\n",
            "mean        250.500000    4801.246000  ...    2.150915    1.502000\n",
            "std         144.481833     986.395491  ...    0.249767    0.500497\n",
            "min           1.000000    2522.000000  ...    1.440796    1.000000\n",
            "25%         125.750000    4042.750000  ...    1.983939    1.000000\n",
            "50%         250.500000    4735.000000  ...    2.193599    2.000000\n",
            "75%         375.250000    5495.500000  ...    2.381612    2.000000\n",
            "max         500.000000    7453.000000  ...    2.464809    2.000000\n",
            "variansi  20875.000000  972976.065615  ...    0.062383    0.250497\n",
            "median      250.500000    4735.000000  ...    2.193599    2.000000\n",
            "skewness      0.000000       0.238144  ...   -0.658188   -0.008024\n",
            "kurtosis     -1.200000      -0.434631  ...   -0.428656   -2.007984\n",
            "\n",
            "[12 rows x 12 columns]\n",
            "\n",
            "DATA MODUS \n",
            "      id  Daerah  SumbuUtama  SumbuKecil  ...  Keliling   Bulatan    Ransum  Kelas\n",
            "0      1  3992.0   74.133114   39.906517  ...   197.015  0.174590  1.440796    2.0\n",
            "1      2  4881.0   74.364021   41.436419  ...   200.587  0.261297  1.453137    NaN\n",
            "2      3  5642.0   74.691881   42.871879  ...   202.456  0.299298  1.465950    NaN\n",
            "3      4  6083.0   76.293164   43.284979  ...   207.325  0.589146  1.483456    NaN\n",
            "4      5     NaN   76.789043   44.119355  ...   207.697  0.603807  1.510000    NaN\n",
            "..   ...     ...         ...         ...  ...       ...       ...       ...    ...\n",
            "495  496     NaN  152.068440   63.322854  ...   375.651  0.872417  2.461017    NaN\n",
            "496  497     NaN  152.113491   63.762307  ...   390.125  0.874243  2.461510    NaN\n",
            "497  498     NaN  153.583387   64.012769  ...   434.235  0.874743  2.463297    NaN\n",
            "498  499     NaN  227.105462   65.738475  ...   448.305  0.891706  2.463546    NaN\n",
            "499  500     NaN  227.928583   68.977700  ...   488.837  0.904748  2.464809    NaN\n",
            "\n",
            "[500 rows x 12 columns]\n",
            "\n",
            "DATA RANGE \n",
            "id              499.000000\n",
            "Daerah         4931.000000\n",
            "SumbuUtama      153.795469\n",
            "SumbuKecil       29.071182\n",
            "Keunikan          0.194085\n",
            "AreaBulatan    5141.000000\n",
            "Diameter         40.747172\n",
            "KadarAir          0.468972\n",
            "Keliling        291.822000\n",
            "Bulatan           0.730158\n",
            "Ransum            1.024013\n",
            "Kelas             1.000000\n",
            "dtype: float64\n",
            "\n",
            "DATA IQR \n",
            "id              249.500000\n",
            "Daerah         1452.750000\n",
            "SumbuUtama       24.930694\n",
            "SumbuKecil        5.131582\n",
            "Keunikan          0.043902\n",
            "AreaBulatan    1484.000000\n",
            "Diameter         11.903290\n",
            "KadarAir          0.154001\n",
            "Keliling         50.179500\n",
            "Bulatan           0.064370\n",
            "Ransum            0.397673\n",
            "Kelas             1.000000\n",
            "dtype: float64\n"
          ],
          "name": "stdout"
        }
      ]
    },
    {
      "cell_type": "code",
      "metadata": {
        "colab": {
          "base_uri": "https://localhost:8080/",
          "height": 282
        },
        "id": "35bnLMkGcGBH",
        "outputId": "baca7ae6-9a01-4e86-a278-afd41b4cc580"
      },
      "source": [
        "df[[\"Daerah\"]].plot(kind=\"hist\",bins=[0,1000,2000,3000,4000,5000,6000,7000,8000,9000,10000],rwidth=0.95, color='red')"
      ],
      "execution_count": null,
      "outputs": [
        {
          "output_type": "execute_result",
          "data": {
            "text/plain": [
              "<matplotlib.axes._subplots.AxesSubplot at 0x7f89abb99b50>"
            ]
          },
          "metadata": {
            "tags": []
          },
          "execution_count": 4
        },
        {
          "output_type": "display_data",
          "data": {
            "image/png": "[encoded data removed]",
            "text/plain": [
              "<Figure size 432x288 with 1 Axes>"
            ]
          },
          "metadata": {
            "tags": [],
            "needs_background": "light"
          }
        }
      ]
    },
    {
      "cell_type": "code",
      "metadata": {
        "colab": {
          "base_uri": "https://localhost:8080/",
          "height": 282
        },
        "id": "b9fW9q95cy6t",
        "outputId": "d127739a-4c2d-4664-9ebb-a34322b25f82"
      },
      "source": [
        "df.boxplot(column=['Daerah'])"
      ],
      "execution_count": null,
      "outputs": [
        {
          "output_type": "execute_result",
          "data": {
            "text/plain": [
              "<matplotlib.axes._subplots.AxesSubplot at 0x7f89ab9d8810>"
            ]
          },
          "metadata": {
            "tags": []
          },
          "execution_count": 6
        },
        {
          "output_type": "display_data",
          "data": {
            "image/png": "[encoded data removed]",
            "text/plain": [
              "<Figure size 432x288 with 1 Axes>"
            ]
          },
          "metadata": {
            "tags": [],
            "needs_background": "light"
          }
        }
      ]
    },
    {
      "cell_type": "code",
      "metadata": {
        "colab": {
          "base_uri": "https://localhost:8080/",
          "height": 282
        },
        "id": "r36o5EZBdFVQ",
        "outputId": "69c68364-6d57-4f12-c9c7-da48820aa674"
      },
      "source": [
        "df[[\"SumbuUtama\"]].plot(kind=\"hist\",bins=[0,20,40,60,80,100,120,140,160,180,200],rwidth=0.95, color='orange')"
      ],
      "execution_count": null,
      "outputs": [
        {
          "output_type": "execute_result",
          "data": {
            "text/plain": [
              "<matplotlib.axes._subplots.AxesSubplot at 0x7f89ab7771d0>"
            ]
          },
          "metadata": {
            "tags": []
          },
          "execution_count": 10
        },
        {
          "output_type": "display_data",
          "data": {
            "image/png": "[encoded data removed]",
            "text/plain": [
              "<Figure size 432x288 with 1 Axes>"
            ]
          },
          "metadata": {
            "tags": [],
            "needs_background": "light"
          }
        }
      ]
    },
    {
      "cell_type": "code",
      "metadata": {
        "colab": {
          "base_uri": "https://localhost:8080/",
          "height": 282
        },
        "id": "TGj3Gw5Iddcs",
        "outputId": "b9374d5c-ace9-444f-8b01-499bb3fb3823"
      },
      "source": [
        "df.boxplot(column=['SumbuUtama'])"
      ],
      "execution_count": null,
      "outputs": [
        {
          "output_type": "execute_result",
          "data": {
            "text/plain": [
              "<matplotlib.axes._subplots.AxesSubplot at 0x7f89ab701590>"
            ]
          },
          "metadata": {
            "tags": []
          },
          "execution_count": 11
        },
        {
          "output_type": "display_data",
          "data": {
            "image/png": "[encoded data removed]",
            "text/plain": [
              "<Figure size 432x288 with 1 Axes>"
            ]
          },
          "metadata": {
            "tags": [],
            "needs_background": "light"
          }
        }
      ]
    },
    {
      "cell_type": "code",
      "metadata": {
        "colab": {
          "base_uri": "https://localhost:8080/",
          "height": 282
        },
        "id": "-acWtkzhdz8d",
        "outputId": "927d1da9-6379-4e51-a661-4629785d2591"
      },
      "source": [
        "df[[\"SumbuKecil\"]].plot(kind=\"hist\",bins=[0,10,20,30,40,50,60,70,80,90,100],rwidth=0.95, color='blue')"
      ],
      "execution_count": null,
      "outputs": [
        {
          "output_type": "execute_result",
          "data": {
            "text/plain": [
              "<matplotlib.axes._subplots.AxesSubplot at 0x7f89ab5edb10>"
            ]
          },
          "metadata": {
            "tags": []
          },
          "execution_count": 13
        },
        {
          "output_type": "display_data",
          "data": {
            "image/png": "[encoded data removed]",
            "text/plain": [
              "<Figure size 432x288 with 1 Axes>"
            ]
          },
          "metadata": {
            "tags": [],
            "needs_background": "light"
          }
        }
      ]
    },
    {
      "cell_type": "code",
      "metadata": {
        "colab": {
          "base_uri": "https://localhost:8080/",
          "height": 283
        },
        "id": "ozshphjkeB54",
        "outputId": "b99a8f0e-48e1-40c4-94a6-d9dbc155f67d"
      },
      "source": [
        "df.boxplot(column=['SumbuKecil'])"
      ],
      "execution_count": null,
      "outputs": [
        {
          "output_type": "execute_result",
          "data": {
            "text/plain": [
              "<matplotlib.axes._subplots.AxesSubplot at 0x7f89ab57a7d0>"
            ]
          },
          "metadata": {
            "tags": []
          },
          "execution_count": 14
        },
        {
          "output_type": "display_data",
          "data": {
            "image/png": "[encoded data removed]",
            "text/plain": [
              "<Figure size 432x288 with 1 Axes>"
            ]
          },
          "metadata": {
            "tags": [],
            "needs_background": "light"
          }
        }
      ]
    },
    {
      "cell_type": "code",
      "metadata": {
        "colab": {
          "base_uri": "https://localhost:8080/",
          "height": 282
        },
        "id": "I0t_PfJ5eEHW",
        "outputId": "632eb6d1-326b-4d7b-8618-64fc412cce3d"
      },
      "source": [
        "df[[\"Keunikan\"]].plot(kind=\"hist\",bins=[0,0.1,0.2,0.3,0.4,0.5,0.6,0.7,0.8,0.9,1],rwidth=0.95, color='green')"
      ],
      "execution_count": null,
      "outputs": [
        {
          "output_type": "execute_result",
          "data": {
            "text/plain": [
              "<matplotlib.axes._subplots.AxesSubplot at 0x7f89ab2d9f50>"
            ]
          },
          "metadata": {
            "tags": []
          },
          "execution_count": 16
        },
        {
          "output_type": "display_data",
          "data": {
            "image/png": "[encoded data removed]",
            "text/plain": [
              "<Figure size 432x288 with 1 Axes>"
            ]
          },
          "metadata": {
            "tags": [],
            "needs_background": "light"
          }
        }
      ]
    },
    {
      "cell_type": "code",
      "metadata": {
        "colab": {
          "base_uri": "https://localhost:8080/",
          "height": 282
        },
        "id": "fHxWCm_DeW1P",
        "outputId": "38542cef-3cd6-431e-a0d6-5663bd806c6e"
      },
      "source": [
        "df.boxplot(column=['Keunikan'])"
      ],
      "execution_count": null,
      "outputs": [
        {
          "output_type": "execute_result",
          "data": {
            "text/plain": [
              "<matplotlib.axes._subplots.AxesSubplot at 0x7f89ab25f790>"
            ]
          },
          "metadata": {
            "tags": []
          },
          "execution_count": 17
        },
        {
          "output_type": "display_data",
          "data": {
            "image/png": "[encoded data removed]",
            "text/plain": [
              "<Figure size 432x288 with 1 Axes>"
            ]
          },
          "metadata": {
            "tags": [],
            "needs_background": "light"
          }
        }
      ]
    },
    {
      "cell_type": "code",
      "metadata": {
        "colab": {
          "base_uri": "https://localhost:8080/",
          "height": 282
        },
        "id": "7JFQcwRAez-P",
        "outputId": "9d0d4086-06c5-4dcd-c14d-3fc32c2a7fe7"
      },
      "source": [
        "df[[\"AreaBulatan\"]].plot(kind=\"hist\",bins=[0,1000,2000,3000,4000,5000,6000,7000,8000,9000,10000],rwidth=0.95, color='purple')"
      ],
      "execution_count": null,
      "outputs": [
        {
          "output_type": "execute_result",
          "data": {
            "text/plain": [
              "<matplotlib.axes._subplots.AxesSubplot at 0x7f89ab2d33d0>"
            ]
          },
          "metadata": {
            "tags": []
          },
          "execution_count": 19
        },
        {
          "output_type": "display_data",
          "data": {
            "image/png": "[encoded data removed]",
            "text/plain": [
              "<Figure size 432x288 with 1 Axes>"
            ]
          },
          "metadata": {
            "tags": [],
            "needs_background": "light"
          }
        }
      ]
    },
    {
      "cell_type": "code",
      "metadata": {
        "colab": {
          "base_uri": "https://localhost:8080/",
          "height": 282
        },
        "id": "rEvAICMIe8yH",
        "outputId": "7a813bc8-16e1-496f-b3b2-fd376b77cd91"
      },
      "source": [
        "df.boxplot(column=['AreaBulatan'])"
      ],
      "execution_count": null,
      "outputs": [
        {
          "output_type": "execute_result",
          "data": {
            "text/plain": [
              "<matplotlib.axes._subplots.AxesSubplot at 0x7f89ab0f0390>"
            ]
          },
          "metadata": {
            "tags": []
          },
          "execution_count": 20
        },
        {
          "output_type": "display_data",
          "data": {
            "image/png": "[encoded data removed]",
            "text/plain": [
              "<Figure size 432x288 with 1 Axes>"
            ]
          },
          "metadata": {
            "tags": [],
            "needs_background": "light"
          }
        }
      ]
    },
    {
      "cell_type": "code",
      "metadata": {
        "colab": {
          "base_uri": "https://localhost:8080/",
          "height": 282
        },
        "id": "XM1X68Zye-7R",
        "outputId": "ee86d354-ba58-4496-adac-bfd1442936f5"
      },
      "source": [
        "df[[\"Diameter\"]].plot(kind=\"hist\",bins=[0,10,20,30,40,50,60,70,80,90,100],rwidth=0.95, color='gray')"
      ],
      "execution_count": null,
      "outputs": [
        {
          "output_type": "execute_result",
          "data": {
            "text/plain": [
              "<matplotlib.axes._subplots.AxesSubplot at 0x7f89ab0481d0>"
            ]
          },
          "metadata": {
            "tags": []
          },
          "execution_count": 22
        },
        {
          "output_type": "display_data",
          "data": {
            "image/png": "[encoded data removed]",
            "text/plain": [
              "<Figure size 432x288 with 1 Axes>"
            ]
          },
          "metadata": {
            "tags": [],
            "needs_background": "light"
          }
        }
      ]
    },
    {
      "cell_type": "code",
      "metadata": {
        "colab": {
          "base_uri": "https://localhost:8080/",
          "height": 282
        },
        "id": "KF1ZLs_hfDqC",
        "outputId": "6a41ffc9-3c61-42d7-d955-14d9d549551f"
      },
      "source": [
        "df.boxplot(column=['Diameter'])"
      ],
      "execution_count": null,
      "outputs": [
        {
          "output_type": "execute_result",
          "data": {
            "text/plain": [
              "<matplotlib.axes._subplots.AxesSubplot at 0x7f89aaf81790>"
            ]
          },
          "metadata": {
            "tags": []
          },
          "execution_count": 23
        },
        {
          "output_type": "display_data",
          "data": {
            "image/png": "[encoded data removed]",
            "text/plain": [
              "<Figure size 432x288 with 1 Axes>"
            ]
          },
          "metadata": {
            "tags": [],
            "needs_background": "light"
          }
        }
      ]
    },
    {
      "cell_type": "code",
      "metadata": {
        "colab": {
          "base_uri": "https://localhost:8080/",
          "height": 282
        },
        "id": "JGMmtBXwfJ0o",
        "outputId": "b6b1cfc0-72f9-473f-fd86-2e38c3d85e8d"
      },
      "source": [
        "df[[\"KadarAir\"]].plot(kind=\"hist\",bins=[0,0.1,0.2,0.3,0.4,0.5,0.6,0.7,0.8,0.9,1],rwidth=0.95, color='cyan')"
      ],
      "execution_count": null,
      "outputs": [
        {
          "output_type": "execute_result",
          "data": {
            "text/plain": [
              "<matplotlib.axes._subplots.AxesSubplot at 0x7f89ab569fd0>"
            ]
          },
          "metadata": {
            "tags": []
          },
          "execution_count": 24
        },
        {
          "output_type": "display_data",
          "data": {
            "image/png": "[encoded data removed]",
            "text/plain": [
              "<Figure size 432x288 with 1 Axes>"
            ]
          },
          "metadata": {
            "tags": [],
            "needs_background": "light"
          }
        }
      ]
    },
    {
      "cell_type": "code",
      "metadata": {
        "colab": {
          "base_uri": "https://localhost:8080/",
          "height": 285
        },
        "id": "BTVocS0kfOpl",
        "outputId": "aa33397a-acc7-4c0c-a750-91c153eb0ad8"
      },
      "source": [
        "df.boxplot(column=['KadarAir'])"
      ],
      "execution_count": null,
      "outputs": [
        {
          "output_type": "execute_result",
          "data": {
            "text/plain": [
              "<matplotlib.axes._subplots.AxesSubplot at 0x7f89aaed2e10>"
            ]
          },
          "metadata": {
            "tags": []
          },
          "execution_count": 25
        },
        {
          "output_type": "display_data",
          "data": {
            "image/png": "[encoded data removed]",
            "text/plain": [
              "<Figure size 432x288 with 1 Axes>"
            ]
          },
          "metadata": {
            "tags": [],
            "needs_background": "light"
          }
        }
      ]
    },
    {
      "cell_type": "code",
      "metadata": {
        "colab": {
          "base_uri": "https://localhost:8080/",
          "height": 282
        },
        "id": "6sRTuGHAfTca",
        "outputId": "8cca4693-a5c5-4763-a90b-72a9e245dd60"
      },
      "source": [
        "df[[\"Keliling\"]].plot(kind=\"hist\",bins=[0,50,100,150,200,250,300,350,400,450,500],rwidth=0.95, color='orange')"
      ],
      "execution_count": null,
      "outputs": [
        {
          "output_type": "execute_result",
          "data": {
            "text/plain": [
              "<matplotlib.axes._subplots.AxesSubplot at 0x7f89aae40150>"
            ]
          },
          "metadata": {
            "tags": []
          },
          "execution_count": 26
        },
        {
          "output_type": "display_data",
          "data": {
            "image/png": "[encoded data removed]",
            "text/plain": [
              "<Figure size 432x288 with 1 Axes>"
            ]
          },
          "metadata": {
            "tags": [],
            "needs_background": "light"
          }
        }
      ]
    },
    {
      "cell_type": "code",
      "metadata": {
        "colab": {
          "base_uri": "https://localhost:8080/",
          "height": 284
        },
        "id": "lgVurK14fhU6",
        "outputId": "c5d01470-b99f-4c28-9343-e3992d737bfb"
      },
      "source": [
        "df.boxplot(column=['Keliling'])"
      ],
      "execution_count": null,
      "outputs": [
        {
          "output_type": "execute_result",
          "data": {
            "text/plain": [
              "<matplotlib.axes._subplots.AxesSubplot at 0x7f89aadd8210>"
            ]
          },
          "metadata": {
            "tags": []
          },
          "execution_count": 27
        },
        {
          "output_type": "display_data",
          "data": {
            "image/png": "[encoded data removed]",
            "text/plain": [
              "<Figure size 432x288 with 1 Axes>"
            ]
          },
          "metadata": {
            "tags": [],
            "needs_background": "light"
          }
        }
      ]
    },
    {
      "cell_type": "code",
      "metadata": {
        "colab": {
          "base_uri": "https://localhost:8080/",
          "height": 282
        },
        "id": "tjWXGUvWfmdL",
        "outputId": "364c4833-e068-415f-f563-8d088856bd0a"
      },
      "source": [
        "df[[\"Bulatan\"]].plot(kind=\"hist\",bins=[0,0.1,0.2,0.3,0.4,0.5,0.6,0.7,0.8,0.9,1],rwidth=0.95, color='red')"
      ],
      "execution_count": null,
      "outputs": [
        {
          "output_type": "execute_result",
          "data": {
            "text/plain": [
              "<matplotlib.axes._subplots.AxesSubplot at 0x7f89aad4b890>"
            ]
          },
          "metadata": {
            "tags": []
          },
          "execution_count": 28
        },
        {
          "output_type": "display_data",
          "data": {
            "image/png": "[encoded data removed]",
            "text/plain": [
              "<Figure size 432x288 with 1 Axes>"
            ]
          },
          "metadata": {
            "tags": [],
            "needs_background": "light"
          }
        }
      ]
    },
    {
      "cell_type": "code",
      "metadata": {
        "colab": {
          "base_uri": "https://localhost:8080/",
          "height": 282
        },
        "id": "bQFZO6kGfrmg",
        "outputId": "a076ab82-8a73-42d7-f720-a8ec0c0366b7"
      },
      "source": [
        "df.boxplot(column=['Bulatan'])"
      ],
      "execution_count": null,
      "outputs": [
        {
          "output_type": "execute_result",
          "data": {
            "text/plain": [
              "<matplotlib.axes._subplots.AxesSubplot at 0x7f89aac5e8d0>"
            ]
          },
          "metadata": {
            "tags": []
          },
          "execution_count": 29
        },
        {
          "output_type": "display_data",
          "data": {
            "image/png": "[encoded data removed]",
            "text/plain": [
              "<Figure size 432x288 with 1 Axes>"
            ]
          },
          "metadata": {
            "tags": [],
            "needs_background": "light"
          }
        }
      ]
    },
    {
      "cell_type": "code",
      "metadata": {
        "colab": {
          "base_uri": "https://localhost:8080/",
          "height": 282
        },
        "id": "YGCQQKHpfuTQ",
        "outputId": "94b32063-15fc-49d5-e2f1-40178b251fa3"
      },
      "source": [
        "df[[\"Ransum\"]].plot(kind=\"hist\",bins=[1.4,1.5,1.6,1.7,1.8,1.9,2,2.1,2.2,2.3,2.4,2.5],rwidth=0.95, color='green')"
      ],
      "execution_count": null,
      "outputs": [
        {
          "output_type": "execute_result",
          "data": {
            "text/plain": [
              "<matplotlib.axes._subplots.AxesSubplot at 0x7f89aa8ac350>"
            ]
          },
          "metadata": {
            "tags": []
          },
          "execution_count": 36
        },
        {
          "output_type": "display_data",
          "data": {
            "image/png": "[encoded data removed]",
            "text/plain": [
              "<Figure size 432x288 with 1 Axes>"
            ]
          },
          "metadata": {
            "tags": [],
            "needs_background": "light"
          }
        }
      ]
    },
    {
      "cell_type": "code",
      "metadata": {
        "colab": {
          "base_uri": "https://localhost:8080/",
          "height": 282
        },
        "id": "AcVtb2Vegka3",
        "outputId": "a75368f0-4728-4503-e217-94c2ee38cd03"
      },
      "source": [
        "df.boxplot(column=['Ransum'])"
      ],
      "execution_count": null,
      "outputs": [
        {
          "output_type": "execute_result",
          "data": {
            "text/plain": [
              "<matplotlib.axes._subplots.AxesSubplot at 0x7f89aa8acc10>"
            ]
          },
          "metadata": {
            "tags": []
          },
          "execution_count": 37
        },
        {
          "output_type": "display_data",
          "data": {
            "image/png": "[encoded data removed]",
            "text/plain": [
              "<Figure size 432x288 with 1 Axes>"
            ]
          },
          "metadata": {
            "tags": [],
            "needs_background": "light"
          }
        }
      ]
    },
    {
      "cell_type": "code",
      "metadata": {
        "colab": {
          "base_uri": "https://localhost:8080/"
        },
        "id": "zKB9YOkrs_iy",
        "outputId": "5e2e7847-64ac-4c05-bd5e-0ea877856302"
      },
      "source": [
        "# NOMOR 3\n",
        "import scipy.stats as stats\n",
        "from scipy.stats import norm, normaltest\n",
        "\n",
        "def normality_test(column):\n",
        "  stat, pValue = normaltest(df[column])\n",
        "\n",
        "  if pValue > 0.05:\n",
        "    print(\"Kolom \"+str(column) + \" berdistribusi normal\")\n",
        "    print(\"Dengan nilai stat : \"+str(stat))\n",
        "    print(\"Dengan nilai pValue : \"+str(pValue)+\"\\n\")\n",
        "  else:\n",
        "    print(\"Kolom \"+str(column) + \" tidak berdistribusi normal\")\n",
        "    print(\"Dengan nilai stat : \"+str(stat))\n",
        "    print(\"Dengan nilai pValue : \"+str(pValue)+\"\\n\")\n",
        "\n",
        "normality_test(\"Daerah\")\n",
        "normality_test(\"SumbuUtama\")\n",
        "normality_test(\"SumbuKecil\")\n",
        "normality_test(\"Keunikan\")\n",
        "normality_test(\"AreaBulatan\")\n",
        "normality_test(\"Diameter\")\n",
        "normality_test(\"Keliling\")\n",
        "normality_test(\"Bulatan\")\n",
        "normality_test(\"Ransum\")\n",
        "\n"
      ],
      "execution_count": 7,
      "outputs": [
        {
          "output_type": "stream",
          "text": [
            "Kolom Daerah tidak berdistribusi normal\n",
            "Dengan nilai stat : 10.858551334227265\n",
            "Dengan nilai pValue : 0.004386271773193838\n",
            "\n",
            "Kolom SumbuUtama tidak berdistribusi normal\n",
            "Dengan nilai stat : 95.12010812035354\n",
            "Dengan nilai pValue : 2.2127429343273333e-21\n",
            "\n",
            "Kolom SumbuKecil berdistribusi normal\n",
            "Dengan nilai stat : 3.698394471986242\n",
            "Dengan nilai pValue : 0.1573634413290252\n",
            "\n",
            "Kolom Keunikan tidak berdistribusi normal\n",
            "Dengan nilai stat : 158.61743886606416\n",
            "Dengan nilai pValue : 3.602971140062405e-35\n",
            "\n",
            "Kolom AreaBulatan tidak berdistribusi normal\n",
            "Dengan nilai stat : 10.738742339140217\n",
            "Dengan nilai pValue : 0.004657058890055043\n",
            "\n",
            "Kolom Diameter tidak berdistribusi normal\n",
            "Dengan nilai stat : 7.446345772505218\n",
            "Dengan nilai pValue : 0.024157198077543095\n",
            "\n",
            "Kolom Keliling tidak berdistribusi normal\n",
            "Dengan nilai stat : 67.46548246324498\n",
            "Dengan nilai pValue : 2.2390130437166565e-15\n",
            "\n",
            "Kolom Bulatan tidak berdistribusi normal\n",
            "Dengan nilai stat : 442.11941526532235\n",
            "Dengan nilai pValue : 9.885276103161724e-97\n",
            "\n",
            "Kolom Ransum tidak berdistribusi normal\n",
            "Dengan nilai stat : 37.060319894694054\n",
            "Dengan nilai pValue : 8.963008041823752e-09\n",
            "\n"
          ],
          "name": "stdout"
        }
      ]
    },
    {
      "cell_type": "code",
      "metadata": {
        "id": "MDk2PtQuwAmm"
      },
      "source": [
        "import seaborn as sns\n",
        "sns.set()\n",
        "# SOAL 4\n",
        "# Melakukan test hipotesis 1 sampel, dengan menuliskan 6 langkah testing dan menampilkan\n",
        "# juga boxplotnya untuk kolom/bagian yang bersesuaian.\n",
        "# a. Nilai rata-rata Daerah di atas 4700?\n",
        "# b. Nilai Rata-rata Sumbu Utama tidak sama dengan 116?\n",
        "# c. Nilai Rata-rata 20 baris pertama kolom Sumbu Kecil bukan 50?\n",
        "# d. Proporsi nilai Diameter yang lebih dari 85, adalah tidak sama dengan 15% ?\n",
        "# e. Proporsi nilai Keliling yang kurang dari 100, adalah kurang dari 5% ?\n",
        "\n",
        "sampel = df.sample(250) # ambil setengah data sebagai sampel yaitu 500/2 = 250\n",
        "\n",
        "# Fungsi untuk menghitung nilai Z (Distribusi Sample) dari masing-masing kolom\n",
        "def hitungNilaiZ(RataSampel, RataPopulasi, DeviasiPopulasi, jumlahSampel):\n",
        "    return ((RataSampel - RataPopulasi) * (jumlahSampel) ** 1/2)/DeviasiPopulasi\n",
        "\n",
        "def Soal4(Sampelnya, population, jumlahSampel, columns):\n",
        "    MeanKolom = Sampelnya[columns].mean()\n",
        "    print(\"Mean dari sample kolom Daerah: \", MeanKolom);\n",
        "    NilaiZ = hitungNilaiZ(MeanKolom, population[columns].mean(), population[columns].std(), jumlahSampel)\n",
        "    print(\"Nilai Distribusi Z yang dihitung: \", NilaiZ);\n",
        "    print(\"P valuenya adalah: \", norm.sf(abs(NilaiZ)));\n",
        "\n",
        "    # Bikin BoxPlot\n",
        "    sns.boxplot(data=Sampelnya, x=str(columns));\n",
        "\n"
      ],
      "execution_count": 8,
      "outputs": []
    },
    {
      "cell_type": "code",
      "metadata": {
        "colab": {
          "base_uri": "https://localhost:8080/",
          "height": 336
        },
        "id": "Ai7o9Kvby7Nv",
        "outputId": "46ea42dd-7044-45fc-80f3-7a61a42f4a23"
      },
      "source": [
        "# 4A Nilai rata-rata Daerah di atas 4700 ?\n",
        "# Langkah 1: null hypothesis Mean (H0) = 4700\n",
        "# Langkah 2: alternative hypothesis (H1) Mean > 4700\n",
        "# Langkah 3: alpha = 0.05\n",
        "# Langkah 4: uji tes mean Z one tailed, alpha = 0.05, daerah kritis: Z > 1.645\n",
        "# Langkah 5: uji tes statistik one tailed\n",
        "# Langkah 6: nilai distribusi Z berada pada daerah krisis dan p-value lebih kecil dari alpha, maka tolak null hypothesis\n",
        "\n",
        "Soal4(sampel, df, 250, \"Daerah\")"
      ],
      "execution_count": 9,
      "outputs": [
        {
          "output_type": "stream",
          "text": [
            "Mean dari sample kolom Daerah:  4783.096\n",
            "Nilai Distribusi Z yang dihitung:  -2.3000409263756096\n",
            "P valuenya adalah:  0.010722950753251815\n"
          ],
          "name": "stdout"
        },
        {
          "output_type": "display_data",
          "data": {
            "image/png": "[encoded data removed]",
            "text/plain": [
              "<Figure size 432x288 with 1 Axes>"
            ]
          },
          "metadata": {
            "tags": []
          }
        }
      ]
    },
    {
      "cell_type": "code",
      "metadata": {
        "colab": {
          "base_uri": "https://localhost:8080/",
          "height": 336
        },
        "id": "EhHGkEkfzucr",
        "outputId": "ba397883-f79f-452c-9512-2c90ee6bed86"
      },
      "source": [
        "# 4b Nilai Rata-rata Sumbu Utama tidak sama dengan 116 ?\n",
        "# Langkah 1: null hypothesis Mean (H0) = 116\n",
        "# Langkah 2: alternative hypothesis (H1) Mean != 116\n",
        "# Langkah 3: alpha = 0.05\n",
        "# Langkah 4: uji tes mean Z two tailed, alpha = 0.05 dan statistik two tailed maka daerah Z < -1.96 dan Z > 1.96\n",
        "# Langkah 5: uji tes statistik two tailed\n",
        "# Langkah 6: nilai distribusi Z tidak berada pada daerah krisis dan p-value lebih kecil dari alpha, maka terima null hypothesis\n",
        "\n",
        "Soal4(sampel, df, 250, \"SumbuUtama\")"
      ],
      "execution_count": 10,
      "outputs": [
        {
          "output_type": "stream",
          "text": [
            "Mean dari sample kolom Daerah:  116.15149638995999\n",
            "Nilai Distribusi Z yang dihitung:  0.7269539837082097\n",
            "P valuenya adalah:  0.2336270727187293\n"
          ],
          "name": "stdout"
        },
        {
          "output_type": "display_data",
          "data": {
            "image/png": "[encoded data removed]",
            "text/plain": [
              "<Figure size 432x288 with 1 Axes>"
            ]
          },
          "metadata": {
            "tags": []
          }
        }
      ]
    },
    {
      "cell_type": "code",
      "metadata": {
        "colab": {
          "base_uri": "https://localhost:8080/",
          "height": 336
        },
        "id": "cfmwFhrUz5Wm",
        "outputId": "bcd6f548-5d3d-4ee4-8283-39e688ffb3f0"
      },
      "source": [
        "# 4c Nilai Rata-rata 20 baris pertama kolom Sumbu Kecil bukan 50 ?\n",
        "# Langkah 1: null hypothesis Mean (H0) = 50\n",
        "# Langkah 2: alternative hypothesis (H1) Mean != 50\n",
        "# Langkah 3: alpha = 0.05\n",
        "# Langkah 4: uji tes mean Z two tailed, alpha = 0.05 dan statistik two tailed maka daerah Z < -1.96 dan Z > 1.96\n",
        "# Langkah 5: uji tes statistik two tailed\n",
        "\n",
        "RataRataSampel20BarisPertama = sampel[\"SumbuKecil\"].iloc[:19].mean()\n",
        "print(\"Rata-rata 20 Baris Pertama pada kolom SumbuKecil adalah \", RataRataSampel20BarisPertama);\n",
        "zValue = hitungNilaiZ(RataRataSampel20BarisPertama, 50, df[\"SumbuKecil\"].std(), 20)\n",
        "print(\"zValue :  \", zValue);\n",
        "print(\"pValue : \", norm.sf(abs(zValue)));\n",
        "\n",
        "# Langkah 6: nilai distribusi Z  berada pada daerah krisis maka null hypothesis ditolak\n",
        "\n",
        "# Boxplot \"SumbuUtama\"\n",
        "sns.boxplot(data=sampel, x=\"SumbuKecil\");"
      ],
      "execution_count": 11,
      "outputs": [
        {
          "output_type": "stream",
          "text": [
            "Rata-rata 20 Baris Pertama pada kolom SumbuKecil adalah  53.62848566315788\n",
            "zValue :   8.912844601912363\n",
            "pValue :  2.486983619008461e-19\n"
          ],
          "name": "stdout"
        },
        {
          "output_type": "display_data",
          "data": {
            "image/png": "[encoded data removed]",
            "text/plain": [
              "<Figure size 432x288 with 1 Axes>"
            ]
          },
          "metadata": {
            "tags": []
          }
        }
      ]
    },
    {
      "cell_type": "code",
      "metadata": {
        "colab": {
          "base_uri": "https://localhost:8080/",
          "height": 336
        },
        "id": "QQirq-HV0vko",
        "outputId": "ad760f21-7557-4e65-f561-b234840a75b3"
      },
      "source": [
        "# 4d Proporsi nilai Diameter yang lebih dari 85, adalah tidak sama dengan 15% ?\n",
        "# Langkah 1: null hypothesis Mean (H0) P = 0.15\n",
        "# Langkah 2: alternative hypothesis (H1) P != 0.15\n",
        "# Langkah 3: alpha = 0.05\n",
        "# Langkah 4: uji tes mean Z two tailed, alpha = 0.05 dan statistik two tailed maka daerah Z < -1.96 dan Z > 1.96\n",
        "# Langkah 5: uji tes statistik two tailed\n",
        "# Langkah 6: nilai Z tidak berada pada daerah kritis, maka null hypothesis di terima\n",
        "\n",
        "countAbove85 = len(sampel[\"Diameter\"].loc[sampel[\"Diameter\"] > 85])\n",
        "print(\"Banyaknya Gandum yang memiliki diameter lebih besar dari 85 adalah \", countAbove85);\n",
        "zValue = ((countAbove85/250) - 0.15)/(0.15*0.85/250)**(1/2)\n",
        "print(\"zValue : \", zValue);\n",
        "print(\"pValue : \", norm.sf(abs(zValue)) * 2);\n",
        "\n",
        "# Boxplot \"Diameter\"\n",
        "sns.boxplot(data=sampel, x=\"Diameter\");"
      ],
      "execution_count": 12,
      "outputs": [
        {
          "output_type": "stream",
          "text": [
            "Banyaknya Gandum yang memiliki diameter lebih besar dari 85 adalah  49\n",
            "zValue :  2.0369142367422195\n",
            "pValue :  0.041658637191145986\n"
          ],
          "name": "stdout"
        },
        {
          "output_type": "display_data",
          "data": {
            "image/png": "[encoded data removed]",
            "text/plain": [
              "<Figure size 432x288 with 1 Axes>"
            ]
          },
          "metadata": {
            "tags": []
          }
        }
      ]
    },
    {
      "cell_type": "code",
      "metadata": {
        "colab": {
          "base_uri": "https://localhost:8080/",
          "height": 336
        },
        "id": "5Q9exZLb02_N",
        "outputId": "90552065-4780-48e5-d04b-5bc4939d4148"
      },
      "source": [
        "# 4e Proporsi nilai Keliling yang kurang dari 100, adalah kurang dari 5% ?\n",
        "# Langkah 1: null hypothesis Mean (H0) P = 0.05\n",
        "# Langkah 2: alternative hypothesis (H1) P < 0.05\n",
        "# Langkah 3: alpha = 0.05\n",
        "# Langkah 4: uji tes mean Z one tailed, maka daerah kritis Z < -1.645\n",
        "# Langkah 5: uji tes statistik one tailed\n",
        "# Langkah 6: nilai Z berada pada daerah kritis, maka null hypothesis ditolak\n",
        "\n",
        "countBelow100 = len(sampel[\"Keliling\"].loc[sampel[\"Keliling\"] < 100])\n",
        "print(\"Jumlah keliling gandum yang lebih dari 100: \", countBelow100);\n",
        "zValue = ((countBelow100/250) - 0.15)/(0.15*0.85/250)**(1/2)\n",
        "print(\"zValue : \", zValue);\n",
        "print(\"pValue : \", norm.sf(abs(zValue)));\n",
        "\n",
        "# Boxplot \"Keliling\"\n",
        "sns.boxplot(data=sampel, x=\"Keliling\");"
      ],
      "execution_count": 13,
      "outputs": [
        {
          "output_type": "stream",
          "text": [
            "Jumlah keliling gandum yang lebih dari 100:  0\n",
            "zValue :  -6.642111641550714\n",
            "pValue :  1.546102975657358e-11\n"
          ],
          "name": "stdout"
        },
        {
          "output_type": "display_data",
          "data": {
            "image/png": "[encoded data removed]",
            "text/plain": [
              "<Figure size 432x288 with 1 Axes>"
            ]
          },
          "metadata": {
            "tags": []
          }
        }
      ]
    },
    {
      "cell_type": "code",
      "metadata": {
        "id": "6CERH2XV0-rk"
      },
      "source": [
        "# SOAL 5\n",
        "# Melakukan test hipotesis 2 sampel, dengan menuliskan 6 langkah testing dan menampilkan\n",
        "# juga boxplotnya untuk kolom/bagian yang bersesuaian.\n",
        "# a. Data kolom AreaBulatan dibagi 2 sama rata: bagian awal dan bagian akhir kolom.\n",
        "# Benarkah rata-rata kedua bagian tersebut sama?\n",
        "# b. Data kolom Kadar Air dibagi 2 sama rata: bagian awal dan bagian akhir kolom. Benarkah\n",
        "# rata-rata bagian awal lebih besar dari pada bagian akhir sebesar 0.2?\n",
        "# c. Rata-rata 20 baris pertama kolom Bulatan sama dengan 20 baris terakhirnya?\n",
        "# d. Proporsi nilai bagian awal Ransum yang lebih dari 2, adalah lebih besar daripada,\n",
        "# proporsi nilai yang sama di bagian akhir Ransum?\n",
        "# e. Bagian awal kolom Diameter memiliki variansi yang sama dengan bagian akhirnya?"
      ],
      "execution_count": null,
      "outputs": []
    },
    {
      "cell_type": "code",
      "metadata": {
        "colab": {
          "base_uri": "https://localhost:8080/",
          "height": 390
        },
        "id": "Augs_UkXpb7t",
        "outputId": "cd6b10ae-1a5a-465f-df9a-c499ccd4d249"
      },
      "source": [
        "# 5A Data kolom AreaBulatan dibagi 2 sama rata: bagian awal dan bagian akhir kolom. Benarkah rata-rata kedua bagian tersebut sama?\n",
        "# Kita bagi dahulu menjadi 2 bagian\n",
        "data1 = df.iloc[0:250]\n",
        "data2 = df.iloc[250:500]\n",
        "# asumsi alpha 0.05\n",
        "alpha = 0.05 \n",
        "sns.boxplot(data1['AreaBulatan'],color = \"red\")\n",
        "sns.boxplot(data2['AreaBulatan'],color = \"green\")"
      ],
      "execution_count": 66,
      "outputs": [
        {
          "output_type": "stream",
          "text": [
            "/usr/local/lib/python3.7/dist-packages/seaborn/_decorators.py:43: FutureWarning: Pass the following variable as a keyword arg: x. From version 0.12, the only valid positional argument will be `data`, and passing other arguments without an explicit keyword will result in an error or misinterpretation.\n",
            "  FutureWarning\n",
            "/usr/local/lib/python3.7/dist-packages/seaborn/_decorators.py:43: FutureWarning: Pass the following variable as a keyword arg: x. From version 0.12, the only valid positional argument will be `data`, and passing other arguments without an explicit keyword will result in an error or misinterpretation.\n",
            "  FutureWarning\n"
          ],
          "name": "stderr"
        },
        {
          "output_type": "execute_result",
          "data": {
            "text/plain": [
              "<matplotlib.axes._subplots.AxesSubplot at 0x7f23a4e485d0>"
            ]
          },
          "metadata": {
            "tags": []
          },
          "execution_count": 66
        },
        {
          "output_type": "display_data",
          "data": {
            "image/png": "[encoded data removed]",
            "text/plain": [
              "<Figure size 432x288 with 1 Axes>"
            ]
          },
          "metadata": {
            "tags": []
          }
        }
      ]
    },
    {
      "cell_type": "code",
      "metadata": {
        "id": "vyrPfuR1typy"
      },
      "source": [
        "def hitungDerajatKebebasan(var_data1,var_data2):\n",
        "  return ((var_data1/250 + var_data2/250)**2)/ ((((var_data1/250)**2) / (249)) + (((var_data2/250)**2) / (249)))\n",
        "\n",
        "def tTest(mean_data1,mean_data2,var_data1,var_data2):\n",
        "  return (mean_data1 - mean_data2)/(np.sqrt(var_data1/250 + var_data2/250))"
      ],
      "execution_count": 34,
      "outputs": []
    },
    {
      "cell_type": "code",
      "metadata": {
        "colab": {
          "base_uri": "https://localhost:8080/"
        },
        "id": "Z80a8nJrtAti",
        "outputId": "ae2a3d02-d12d-47a7-b5dc-063caefdfe21"
      },
      "source": [
        "print(\"Mean Comparison data 1 vs data 2\")\n",
        "mean_data1 = data1['AreaBulatan'].mean()\n",
        "mean_data2 = data2['AreaBulatan'].mean()\n",
        "print(mean_data1)\n",
        "print(mean_data2)\n",
        "\n",
        "print(\"\\nVariance Comparison data 1 vs data 2\")\n",
        "var_data1 = data1['AreaBulatan'].var()\n",
        "var_data2 = data2['AreaBulatan'].var()\n",
        "print(var_data1)\n",
        "print(var_data2)\n",
        "\n",
        "print(\"\\nDerajat Kebebasan : \")\n",
        "print(hitungDerajatKebebasan(var_data1,var_data2))\n",
        "\n",
        "print(\"\\nNilai t-test : \")\n",
        "print(tTest(mean_data1,mean_data2,var_data1,var_data2))"
      ],
      "execution_count": 35,
      "outputs": [
        {
          "output_type": "stream",
          "text": [
            "Mean Comparison data 1 vs data 2\n",
            "5549.804\n",
            "4324.292\n",
            "\n",
            "Variance Comparison data 1 vs data 2\n",
            "751733.1060080321\n",
            "545480.4244337347\n",
            "\n",
            "Derajat Kebebasan : \n",
            "485.7209958986575\n",
            "\n",
            "Nilai t-test : \n",
            "17.013036648485464\n"
          ],
          "name": "stdout"
        }
      ]
    },
    {
      "cell_type": "code",
      "metadata": {
        "colab": {
          "base_uri": "https://localhost:8080/"
        },
        "id": "KTvu0kdCtma6",
        "outputId": "f744b9f2-f163-45f4-8d83-0c9e268a1798"
      },
      "source": [
        "# Untuk penentuannya disini ya kak\n",
        "\n",
        "bound = stats.t.cdf(0.025,hitungDerajatKebebasan(var_data1,var_data2))\n",
        "print(\"Daerah kritisnya terdapat pada :\")\n",
        "print(\"-∞ < \"+str(-bound)+\" atau \"+str(bound)+ \" < ∞\")\n",
        "print(\"Jadi t harus bernilai antara \"+str(-bound)+\" dan \"+str(bound)+\" agar H0 diterima\")\n",
        "\n",
        "tt = tTest(mean_data1,mean_data2,var_data1,var_data2)\n",
        "\n",
        "if (tt < -bound or tt > bound):\n",
        "  print(\"H0 tidak diterima karena t bernilai \"+str(tt))\n",
        "else:\n",
        "  print(\"H0 diterima karena t bernilai \"+str(tt))\n"
      ],
      "execution_count": 43,
      "outputs": [
        {
          "output_type": "stream",
          "text": [
            "Daerah kritisnya terdapat pada :\n",
            "-∞ < -0.5099673845396994 atau 0.5099673845396994 < ∞\n",
            "Jadi t harus bernilai antara -0.5099673845396994 dan 0.5099673845396994 agar H0 diterima\n",
            "H0 tidak diterima karena t bernilai 17.013036648485464\n"
          ],
          "name": "stdout"
        }
      ]
    },
    {
      "cell_type": "code",
      "metadata": {
        "colab": {
          "base_uri": "https://localhost:8080/",
          "height": 390
        },
        "id": "eE1ZsV22vwHT",
        "outputId": "8d1336a7-01ee-4624-fa5b-8eda14f89e1e"
      },
      "source": [
        "# 5B Data kolom Kadar Air dibagi 2 sama rata: bagian awal dan bagian akhir kolom. Benarkah rata-rata bagian awal lebih besar dari pada bagian akhir sebesar 0.2?\n",
        "# Kita bagi dahulu menjadi 2 bagian\n",
        "data1 = df.iloc[0:250]\n",
        "data2 = df.iloc[250:500]\n",
        "# asumsi alpha 0.05\n",
        "alpha = 0.05 \n",
        "sns.boxplot(data1['KadarAir'],color = \"red\")\n",
        "sns.boxplot(data2['KadarAir'],color = \"green\")"
      ],
      "execution_count": 49,
      "outputs": [
        {
          "output_type": "stream",
          "text": [
            "/usr/local/lib/python3.7/dist-packages/seaborn/_decorators.py:43: FutureWarning: Pass the following variable as a keyword arg: x. From version 0.12, the only valid positional argument will be `data`, and passing other arguments without an explicit keyword will result in an error or misinterpretation.\n",
            "  FutureWarning\n",
            "/usr/local/lib/python3.7/dist-packages/seaborn/_decorators.py:43: FutureWarning: Pass the following variable as a keyword arg: x. From version 0.12, the only valid positional argument will be `data`, and passing other arguments without an explicit keyword will result in an error or misinterpretation.\n",
            "  FutureWarning\n"
          ],
          "name": "stderr"
        },
        {
          "output_type": "execute_result",
          "data": {
            "text/plain": [
              "<matplotlib.axes._subplots.AxesSubplot at 0x7f23a51818d0>"
            ]
          },
          "metadata": {
            "tags": []
          },
          "execution_count": 49
        },
        {
          "output_type": "display_data",
          "data": {
            "image/png": "[encoded data removed]",
            "text/plain": [
              "<Figure size 432x288 with 1 Axes>"
            ]
          },
          "metadata": {
            "tags": []
          }
        }
      ]
    },
    {
      "cell_type": "code",
      "metadata": {
        "colab": {
          "base_uri": "https://localhost:8080/",
          "height": 356
        },
        "id": "TJXE6bKxx7xn",
        "outputId": "7a727134-a827-4d43-fad8-ad19b680f6cc"
      },
      "source": [
        "sns.boxplot(data1['KadarAir'],color = \"red\")"
      ],
      "execution_count": 47,
      "outputs": [
        {
          "output_type": "stream",
          "text": [
            "/usr/local/lib/python3.7/dist-packages/seaborn/_decorators.py:43: FutureWarning: Pass the following variable as a keyword arg: x. From version 0.12, the only valid positional argument will be `data`, and passing other arguments without an explicit keyword will result in an error or misinterpretation.\n",
            "  FutureWarning\n"
          ],
          "name": "stderr"
        },
        {
          "output_type": "execute_result",
          "data": {
            "text/plain": [
              "<matplotlib.axes._subplots.AxesSubplot at 0x7f23a52d1ad0>"
            ]
          },
          "metadata": {
            "tags": []
          },
          "execution_count": 47
        },
        {
          "output_type": "display_data",
          "data": {
            "image/png": "[encoded data removed]",
            "text/plain": [
              "<Figure size 432x288 with 1 Axes>"
            ]
          },
          "metadata": {
            "tags": []
          }
        }
      ]
    },
    {
      "cell_type": "code",
      "metadata": {
        "colab": {
          "base_uri": "https://localhost:8080/",
          "height": 356
        },
        "id": "d8uVxha1x4kq",
        "outputId": "5a12536c-9ff7-4b37-9722-aaab39a5c693"
      },
      "source": [
        "sns.boxplot(data2['KadarAir'],color = \"green\")"
      ],
      "execution_count": 45,
      "outputs": [
        {
          "output_type": "stream",
          "text": [
            "/usr/local/lib/python3.7/dist-packages/seaborn/_decorators.py:43: FutureWarning: Pass the following variable as a keyword arg: x. From version 0.12, the only valid positional argument will be `data`, and passing other arguments without an explicit keyword will result in an error or misinterpretation.\n",
            "  FutureWarning\n"
          ],
          "name": "stderr"
        },
        {
          "output_type": "execute_result",
          "data": {
            "text/plain": [
              "<matplotlib.axes._subplots.AxesSubplot at 0x7f23a537c190>"
            ]
          },
          "metadata": {
            "tags": []
          },
          "execution_count": 45
        },
        {
          "output_type": "display_data",
          "data": {
            "image/png": "[encoded data removed]",
            "text/plain": [
              "<Figure size 432x288 with 1 Axes>"
            ]
          },
          "metadata": {
            "tags": []
          }
        }
      ]
    },
    {
      "cell_type": "code",
      "metadata": {
        "colab": {
          "base_uri": "https://localhost:8080/"
        },
        "id": "pxnNW2k8yAHW",
        "outputId": "f979a268-9464-4132-ea4f-72bc576a7910"
      },
      "source": [
        "print(\"Mean Comparison data 1 vs data 2\")\n",
        "mean_data1 = data1['KadarAir'].mean()\n",
        "mean_data2 = data2['KadarAir'].mean()\n",
        "print(mean_data1)\n",
        "print(mean_data2)\n",
        "\n",
        "print(\"\\nVariance Comparison data 1 vs data 2\")\n",
        "var_data1 = data1['KadarAir'].var()\n",
        "var_data2 = data2['KadarAir'].var()\n",
        "print(var_data1)\n",
        "print(var_data2)\n",
        "\n",
        "print(\"\\nDerajat Kebebasan : \")\n",
        "print(hitungDerajatKebebasan(var_data1,var_data2))\n",
        "\n",
        "print(\"\\nNilai t-test : \")\n",
        "print(tTest(mean_data1,mean_data2,var_data1,var_data2))"
      ],
      "execution_count": 50,
      "outputs": [
        {
          "output_type": "stream",
          "text": [
            "Mean Comparison data 1 vs data 2\n",
            "0.63574344072\n",
            "0.6609999030760001\n",
            "\n",
            "Variance Comparison data 1 vs data 2\n",
            "0.009043200047076563\n",
            "0.008482636662870607\n",
            "\n",
            "Derajat Kebebasan : \n",
            "497.4910475600773\n",
            "\n",
            "Nilai t-test : \n",
            "-3.016498704781028\n"
          ],
          "name": "stdout"
        }
      ]
    },
    {
      "cell_type": "code",
      "metadata": {
        "colab": {
          "base_uri": "https://localhost:8080/"
        },
        "id": "BBfj345JyLrI",
        "outputId": "479c01f6-eafa-497d-8470-4a9551db2cca"
      },
      "source": [
        "# Untuk penentuannya disini ya kak\n",
        "\n",
        "bound = stats.t.cdf(0.025,hitungDerajatKebebasan(var_data1,var_data2))\n",
        "print(\"Daerah kritisnya terdapat pada :\")\n",
        "print(\"-∞ < \"+str(-bound)+\" atau \"+str(bound)+ \" < ∞\")\n",
        "print(\"Jadi t harus bernilai antara \"+str(-bound)+\" dan \"+str(bound)+\" agar H0 diterima\")\n",
        "\n",
        "tt = tTest(mean_data1,mean_data2,var_data1,var_data2)\n",
        "\n",
        "if (tt < -bound or tt > bound):\n",
        "  print(\"H0 tidak diterima karena t bernilai \"+str(tt))\n",
        "else:\n",
        "  print(\"H0 diterima karena t bernilai \"+str(tt))\n"
      ],
      "execution_count": 51,
      "outputs": [
        {
          "output_type": "stream",
          "text": [
            "Daerah kritisnya terdapat pada :\n",
            "-∞ < -0.5099675059652441 atau 0.5099675059652441 < ∞\n",
            "Jadi t harus bernilai antara -0.5099675059652441 dan 0.5099675059652441 agar H0 diterima\n",
            "H0 tidak diterima karena t bernilai -3.016498704781028\n"
          ],
          "name": "stdout"
        }
      ]
    },
    {
      "cell_type": "code",
      "metadata": {
        "colab": {
          "base_uri": "https://localhost:8080/",
          "height": 356
        },
        "id": "UmWPrBVNyjyq",
        "outputId": "141bd172-d511-4f46-f334-7e6600620017"
      },
      "source": [
        "# 5C Rata-rata 20 baris pertama kolom Bulatan sama dengan 20 baris terakhirnya?\n",
        "data1 = df.iloc[0:20]\n",
        "data2 = df.iloc[480:500]\n",
        "sns.boxplot(data1['Bulatan'],color = \"red\")"
      ],
      "execution_count": 53,
      "outputs": [
        {
          "output_type": "stream",
          "text": [
            "/usr/local/lib/python3.7/dist-packages/seaborn/_decorators.py:43: FutureWarning: Pass the following variable as a keyword arg: x. From version 0.12, the only valid positional argument will be `data`, and passing other arguments without an explicit keyword will result in an error or misinterpretation.\n",
            "  FutureWarning\n"
          ],
          "name": "stderr"
        },
        {
          "output_type": "execute_result",
          "data": {
            "text/plain": [
              "<matplotlib.axes._subplots.AxesSubplot at 0x7f23a50d6390>"
            ]
          },
          "metadata": {
            "tags": []
          },
          "execution_count": 53
        },
        {
          "output_type": "display_data",
          "data": {
            "image/png": "[encoded data removed]",
            "text/plain": [
              "<Figure size 432x288 with 1 Axes>"
            ]
          },
          "metadata": {
            "tags": []
          }
        }
      ]
    },
    {
      "cell_type": "code",
      "metadata": {
        "colab": {
          "base_uri": "https://localhost:8080/",
          "height": 356
        },
        "id": "yHpnOjJlyubn",
        "outputId": "17d353a1-a0d8-4e0c-da63-5a5a88b03938"
      },
      "source": [
        "sns.boxplot(data2['Bulatan'],color = \"Green\")"
      ],
      "execution_count": 54,
      "outputs": [
        {
          "output_type": "stream",
          "text": [
            "/usr/local/lib/python3.7/dist-packages/seaborn/_decorators.py:43: FutureWarning: Pass the following variable as a keyword arg: x. From version 0.12, the only valid positional argument will be `data`, and passing other arguments without an explicit keyword will result in an error or misinterpretation.\n",
            "  FutureWarning\n"
          ],
          "name": "stderr"
        },
        {
          "output_type": "execute_result",
          "data": {
            "text/plain": [
              "<matplotlib.axes._subplots.AxesSubplot at 0x7f23a5065810>"
            ]
          },
          "metadata": {
            "tags": []
          },
          "execution_count": 54
        },
        {
          "output_type": "display_data",
          "data": {
            "image/png": "[encoded data removed]",
            "text/plain": [
              "<Figure size 432x288 with 1 Axes>"
            ]
          },
          "metadata": {
            "tags": []
          }
        }
      ]
    },
    {
      "cell_type": "code",
      "metadata": {
        "id": "bnG1DNR9zLLY"
      },
      "source": [
        "def hitungDerajatKebebasan(var_data1,var_data2):\n",
        "  return ((var_data1/20 + var_data2/20)**2)/ ((((var_data1/20)**2) / (19)) + (((var_data2/20)**2) / (19)))\n",
        "\n",
        "def tTest(mean_data1,mean_data2,var_data1,var_data2):\n",
        "  return (mean_data1 - mean_data2)/(np.sqrt(var_data1/20 + var_data2/20))"
      ],
      "execution_count": 57,
      "outputs": []
    },
    {
      "cell_type": "code",
      "metadata": {
        "colab": {
          "base_uri": "https://localhost:8080/"
        },
        "id": "N3MPBkmDy7J7",
        "outputId": "5e02ec10-8bb4-43e9-8756-9fb2043e5dd8"
      },
      "source": [
        "print(\"Mean Comparison data 1 vs data 2\")\n",
        "mean_data1 = data1['Bulatan'].mean()\n",
        "mean_data2 = data2['Bulatan'].mean()\n",
        "print(mean_data1)\n",
        "print(mean_data2)\n",
        "\n",
        "print(\"\\nVariance Comparison data 1 vs data 2\")\n",
        "var_data1 = data1['Bulatan'].var()\n",
        "var_data2 = data2['Bulatan'].var()\n",
        "print(var_data1)\n",
        "print(var_data2)\n",
        "\n",
        "print(\"\\nDerajat Kebebasan : \")\n",
        "print(hitungDerajatKebebasan(var_data1,var_data2))\n",
        "\n",
        "print(\"\\nNilai t-test : \")\n",
        "print(tTest(mean_data1,mean_data2,var_data1,var_data2))"
      ],
      "execution_count": 58,
      "outputs": [
        {
          "output_type": "stream",
          "text": [
            "Mean Comparison data 1 vs data 2\n",
            "0.7375353552499999\n",
            "0.767322437\n",
            "\n",
            "Variance Comparison data 1 vs data 2\n",
            "0.0009232346025806985\n",
            "0.0006307661055759374\n",
            "\n",
            "Derajat Kebebasan : \n",
            "36.70006222999688\n",
            "\n",
            "Nilai t-test : \n",
            "-3.3792268633124025\n"
          ],
          "name": "stdout"
        }
      ]
    },
    {
      "cell_type": "code",
      "metadata": {
        "colab": {
          "base_uri": "https://localhost:8080/"
        },
        "id": "a7AdOTryzVu2",
        "outputId": "0e2f7e2d-95ff-4f3d-85d0-2263140c4b17"
      },
      "source": [
        "# Untuk penentuannya disini ya kak\n",
        "\n",
        "bound = stats.t.cdf(0.025,hitungDerajatKebebasan(var_data1,var_data2))\n",
        "print(\"Daerah kritisnya terdapat pada :\")\n",
        "print(\"-∞ < \"+str(-bound)+\" atau \"+str(bound)+ \" < ∞\")\n",
        "print(\"Jadi t harus bernilai antara \"+str(-bound)+\" dan \"+str(bound)+\" agar H0 diterima\")\n",
        "\n",
        "tt = tTest(mean_data1,mean_data2,var_data1,var_data2)\n",
        "\n",
        "if (tt < -bound or tt > bound):\n",
        "  print(\"H0 tidak diterima karena t bernilai \"+str(tt))\n",
        "else:\n",
        "  print(\"H0 diterima karena t bernilai \"+str(tt))"
      ],
      "execution_count": 59,
      "outputs": [
        {
          "output_type": "stream",
          "text": [
            "Daerah kritisnya terdapat pada :\n",
            "-∞ < -0.5099047967145734 atau 0.5099047967145734 < ∞\n",
            "Jadi t harus bernilai antara -0.5099047967145734 dan 0.5099047967145734 agar H0 diterima\n",
            "H0 tidak diterima karena t bernilai -3.3792268633124025\n"
          ],
          "name": "stdout"
        }
      ]
    },
    {
      "cell_type": "code",
      "metadata": {
        "id": "OJyLQDp2zYsY"
      },
      "source": [
        "# 5D Proporsi nilai bagian awal Ransum yang lebih dari 2, adalah lebih besar daripada proporsi nilai yang sama di bagian akhir Ransum?\n",
        "# untuk soal ini kita pakai z-test\n"
      ],
      "execution_count": 75,
      "outputs": []
    },
    {
      "cell_type": "code",
      "metadata": {
        "colab": {
          "base_uri": "https://localhost:8080/",
          "height": 356
        },
        "id": "Py-FPYY11cup",
        "outputId": "4710e908-241c-4821-f84f-600b3242c62b"
      },
      "source": [
        "ddata1 = data1.Ransum[data1.Ransum>2]\n",
        "sns.boxplot(ddata1,color = \"Red\")"
      ],
      "execution_count": 76,
      "outputs": [
        {
          "output_type": "stream",
          "text": [
            "/usr/local/lib/python3.7/dist-packages/seaborn/_decorators.py:43: FutureWarning: Pass the following variable as a keyword arg: x. From version 0.12, the only valid positional argument will be `data`, and passing other arguments without an explicit keyword will result in an error or misinterpretation.\n",
            "  FutureWarning\n"
          ],
          "name": "stderr"
        },
        {
          "output_type": "execute_result",
          "data": {
            "text/plain": [
              "<matplotlib.axes._subplots.AxesSubplot at 0x7f23a4cb4ed0>"
            ]
          },
          "metadata": {
            "tags": []
          },
          "execution_count": 76
        },
        {
          "output_type": "display_data",
          "data": {
            "image/png": "[encoded data removed]",
            "text/plain": [
              "<Figure size 432x288 with 1 Axes>"
            ]
          },
          "metadata": {
            "tags": []
          }
        }
      ]
    },
    {
      "cell_type": "code",
      "metadata": {
        "colab": {
          "base_uri": "https://localhost:8080/",
          "height": 356
        },
        "id": "4H_PIanJ0wzP",
        "outputId": "321942f3-7724-413f-d1d9-fbc239f5f7e5"
      },
      "source": [
        "ddata2 = data2.Ransum[data2.Ransum>2]\n",
        "sns.boxplot(ddata2,color = \"Green\")"
      ],
      "execution_count": 70,
      "outputs": [
        {
          "output_type": "stream",
          "text": [
            "/usr/local/lib/python3.7/dist-packages/seaborn/_decorators.py:43: FutureWarning: Pass the following variable as a keyword arg: x. From version 0.12, the only valid positional argument will be `data`, and passing other arguments without an explicit keyword will result in an error or misinterpretation.\n",
            "  FutureWarning\n"
          ],
          "name": "stderr"
        },
        {
          "output_type": "execute_result",
          "data": {
            "text/plain": [
              "<matplotlib.axes._subplots.AxesSubplot at 0x7f23a4ce9490>"
            ]
          },
          "metadata": {
            "tags": []
          },
          "execution_count": 70
        },
        {
          "output_type": "display_data",
          "data": {
            "image/png": "[encoded data removed]",
            "text/plain": [
              "<Figure size 432x288 with 1 Axes>"
            ]
          },
          "metadata": {
            "tags": []
          }
        }
      ]
    },
    {
      "cell_type": "code",
      "metadata": {
        "id": "tJN9QTXZ1gII"
      },
      "source": [
        "def zTest(ddata1,ddata2):\n",
        "  temp1 = ddata1.shape[0] / 250\n",
        "  temp2 = ddata2.shape[0] / 250\n",
        "  temp3 = (ddata1.shape[0] + ddata2.shape[0]) / (500)\n",
        "  return (temp1-temp2)/np.sqrt(temp3*(1-temp3)*(1/125))\n",
        "\n",
        "def hitungNilaiKritis(alpha):\n",
        "  return stats.norm.ppf(alpha)"
      ],
      "execution_count": 82,
      "outputs": []
    },
    {
      "cell_type": "code",
      "metadata": {
        "colab": {
          "base_uri": "https://localhost:8080/"
        },
        "id": "PNSnYJQV2GsU",
        "outputId": "758549a1-38f4-4c63-ea68-5529ca37d43f"
      },
      "source": [
        "print(\" Nilai kritisnya diatas \"+str(hitungNilaiKritis(alpha)))\n",
        "print(\" Nilai hasil Z test kita : \"+str(zTest(ddata1,ddata2)))\n",
        "print(\" Karena nilai Z lebih besar daripada nilai kritis kita, H0 ditolak\")"
      ],
      "execution_count": 85,
      "outputs": [
        {
          "output_type": "stream",
          "text": [
            " Nilai kritisnya diatas -1.6448536269514729\n",
            " Nilai hasil Z test kita : 13.397486455610238\n",
            " Karena nilai Z lebih besar daripada nilai kritis kita, H0 ditolak\n"
          ],
          "name": "stdout"
        }
      ]
    },
    {
      "cell_type": "code",
      "metadata": {
        "colab": {
          "base_uri": "https://localhost:8080/",
          "height": 356
        },
        "id": "dA_bVELI2_Xt",
        "outputId": "35b19cc0-7858-428e-f5e6-0d2ccb6fa56c"
      },
      "source": [
        "# 5E Bagian awal kolom Diameter memiliki variansi yang sama dengan bagian akhirnya?\n",
        "# untuk soal ini kita pakai F-test\n",
        "ddata1 = data1[\"Diameter\"]\n",
        "sns.boxplot(ddata1,color = \"Red\")"
      ],
      "execution_count": 86,
      "outputs": [
        {
          "output_type": "stream",
          "text": [
            "/usr/local/lib/python3.7/dist-packages/seaborn/_decorators.py:43: FutureWarning: Pass the following variable as a keyword arg: x. From version 0.12, the only valid positional argument will be `data`, and passing other arguments without an explicit keyword will result in an error or misinterpretation.\n",
            "  FutureWarning\n"
          ],
          "name": "stderr"
        },
        {
          "output_type": "execute_result",
          "data": {
            "text/plain": [
              "<matplotlib.axes._subplots.AxesSubplot at 0x7f23a496d490>"
            ]
          },
          "metadata": {
            "tags": []
          },
          "execution_count": 86
        },
        {
          "output_type": "display_data",
          "data": {
            "image/png": "[encoded data removed]",
            "text/plain": [
              "<Figure size 432x288 with 1 Axes>"
            ]
          },
          "metadata": {
            "tags": []
          }
        }
      ]
    },
    {
      "cell_type": "code",
      "metadata": {
        "colab": {
          "base_uri": "https://localhost:8080/",
          "height": 356
        },
        "id": "zipoAc2K3TbS",
        "outputId": "47c3d440-43ce-4697-9c76-ea612af3aa22"
      },
      "source": [
        "ddata2 = data2[\"Diameter\"]\n",
        "sns.boxplot(ddata2,color = \"Green\")"
      ],
      "execution_count": 88,
      "outputs": [
        {
          "output_type": "stream",
          "text": [
            "/usr/local/lib/python3.7/dist-packages/seaborn/_decorators.py:43: FutureWarning: Pass the following variable as a keyword arg: x. From version 0.12, the only valid positional argument will be `data`, and passing other arguments without an explicit keyword will result in an error or misinterpretation.\n",
            "  FutureWarning\n"
          ],
          "name": "stderr"
        },
        {
          "output_type": "execute_result",
          "data": {
            "text/plain": [
              "<matplotlib.axes._subplots.AxesSubplot at 0x7f23a496d6d0>"
            ]
          },
          "metadata": {
            "tags": []
          },
          "execution_count": 88
        },
        {
          "output_type": "display_data",
          "data": {
            "image/png": "[encoded data removed]",
            "text/plain": [
              "<Figure size 432x288 with 1 Axes>"
            ]
          },
          "metadata": {
            "tags": []
          }
        }
      ]
    },
    {
      "cell_type": "code",
      "metadata": {
        "id": "qJbSib-E4Te_"
      },
      "source": [
        "def pValue(var_data1,var_data2):\n",
        "  return (1-stats.f.cdf((var_data1/var_data2),249,249))\n",
        "\n",
        "def critBoundary(alpha):\n",
        "  lower = stats.f(249,249).ppf(1-(alpha/2))\n",
        "  upper = stats.f(249,249).ppf(alpha/2)\n",
        "  return lower,upper\n",
        "\n",
        "def BoundaryCheck(boundLow,boundUpp,num):\n",
        "  if (num < boundLow or num > boundUpp):\n",
        "    print (\"H0 diterima karena f bernilai \"+str(num))\n",
        "  else:\n",
        "    print (\"H0 tidak diterima karena f bernilai \"+str(num))"
      ],
      "execution_count": 109,
      "outputs": []
    },
    {
      "cell_type": "code",
      "metadata": {
        "colab": {
          "base_uri": "https://localhost:8080/"
        },
        "id": "sta98Ghh3duP",
        "outputId": "94df6b59-98a4-40fd-9748-e08159ad4dc1"
      },
      "source": [
        "var_data1 = np.var(ddata1, ddof=1)\n",
        "var_data2 = np.var(ddata2, ddof=1)\n",
        "print(\"Variance Comparison antara ddata 1 dan ddata 2\")\n",
        "print(var_data1)\n",
        "print(var_data2)\n",
        "print(\"F value : \"+str(var_data1/var_data2))\n",
        "print(\"P value : \"+str(pValue(var_data1,var_data2)))\n",
        "temp1,temp2 = critBoundary(alpha)\n",
        "print(\"Daerah kritisnya diatas \"+str(temp1)+\" dan dibawah \"+str(temp2))\n",
        "BoundaryCheck(temp1,temp2,var_data1/var_data2)"
      ],
      "execution_count": 110,
      "outputs": [
        {
          "output_type": "stream",
          "text": [
            "Variance Comparison antara ddata 1 dan ddata 2\n",
            "43.16898042632247\n",
            "39.82826438807723\n",
            "F value : 1.0838780220421882\n",
            "P value : 0.26278959201893937\n",
            "Daerah kritisnya diatas 1.2827228078241388 dan dibawah 0.7795916576054985\n",
            "H0 diterima karena f bernilai 1.0838780220421882\n"
          ],
          "name": "stdout"
        }
      ]
    },
    {
      "cell_type": "code",
      "metadata": {
        "id": "k1KWhkw36De_"
      },
      "source": [
        "# Nomor 6 tes korelasi\n",
        "import matplotlib.pyplot as plt\n",
        "\n",
        "def cor(corr):\n",
        "  if (corr > 0):\n",
        "    print(\"Terdapat korelasi positif antara kedua kolom : \"+str(corr))\n",
        "  elif (corr == 0):\n",
        "    print(\"Kedua kolom tidak berkorelasi\")\n",
        "  else:\n",
        "    print(\"Terdapat korelasi negatif antara kedua kolom : \"+str(corr))"
      ],
      "execution_count": 124,
      "outputs": []
    },
    {
      "cell_type": "code",
      "metadata": {
        "colab": {
          "base_uri": "https://localhost:8080/",
          "height": 319
        },
        "id": "dNJvJ1v36iS3",
        "outputId": "6763860d-a87f-4478-9082-6a2c24697d7e"
      },
      "source": [
        "print(\"KORELASI ANTARA KOLOM DAERAH - KELAS\")\n",
        "data = df[\"Daerah\"].corr(df[\"Kelas\"])\n",
        "cor(data)\n",
        "plt.scatter(df.Daerah, df.Kelas, color = \"red\")\n",
        "plt.xlabel(\"Daerah\")\n",
        "plt.ylabel(\"Kelas\")\n",
        "plt.show()"
      ],
      "execution_count": 126,
      "outputs": [
        {
          "output_type": "stream",
          "text": [
            "KORELASI ANTARA KOLOM DAERAH - KELAS\n",
            "Terdapat korelasi negatif antara kedua kolom : -0.6027466517416661\n"
          ],
          "name": "stdout"
        },
        {
          "output_type": "display_data",
          "data": {
            "image/png": "[encoded data removed]",
            "text/plain": [
              "<Figure size 432x288 with 1 Axes>"
            ]
          },
          "metadata": {
            "tags": []
          }
        }
      ]
    },
    {
      "cell_type": "code",
      "metadata": {
        "colab": {
          "base_uri": "https://localhost:8080/",
          "height": 319
        },
        "id": "RoErlRAH7nJ8",
        "outputId": "03d2df22-5003-4df0-860d-a89bde79d6b8"
      },
      "source": [
        "print(\"KORELASI ANTARA KOLOM SUMBU UTAMA - KELAS\")\n",
        "data = df[\"SumbuUtama\"].corr(df[\"Kelas\"])\n",
        "cor(data)\n",
        "plt.scatter(df.SumbuUtama, df.Kelas, color = \"red\")\n",
        "plt.xlabel(\"SumbuUtama\")\n",
        "plt.ylabel(\"Kelas\")\n",
        "plt.show()"
      ],
      "execution_count": 127,
      "outputs": [
        {
          "output_type": "stream",
          "text": [
            "KORELASI ANTARA KOLOM SUMBU UTAMA - KELAS\n",
            "Terdapat korelasi negatif antara kedua kolom : -0.7130906104204592\n"
          ],
          "name": "stdout"
        },
        {
          "output_type": "display_data",
          "data": {
            "image/png": "[encoded data removed]",
            "text/plain": [
              "<Figure size 432x288 with 1 Axes>"
            ]
          },
          "metadata": {
            "tags": []
          }
        }
      ]
    },
    {
      "cell_type": "code",
      "metadata": {
        "colab": {
          "base_uri": "https://localhost:8080/",
          "height": 319
        },
        "id": "tab-Ur7P70f3",
        "outputId": "7b9e3c34-3501-4dae-a6b6-81976dae64ca"
      },
      "source": [
        "print(\"KORELASI ANTARA KOLOM SUMBU KECIL - KELAS\")\n",
        "data = df[\"SumbuKecil\"].corr(df[\"Kelas\"])\n",
        "cor(data)\n",
        "plt.scatter(df.SumbuKecil, df.Kelas, color = \"red\")\n",
        "plt.xlabel(\"SumbuKecil\")\n",
        "plt.ylabel(\"Kelas\")\n",
        "plt.show()"
      ],
      "execution_count": 129,
      "outputs": [
        {
          "output_type": "stream",
          "text": [
            "KORELASI ANTARA KOLOM SUMBU KECIL - KELAS\n",
            "Terdapat korelasi negatif antara kedua kolom : -0.1529751733553502\n"
          ],
          "name": "stdout"
        },
        {
          "output_type": "display_data",
          "data": {
            "image/png": "[encoded data removed]",
            "text/plain": [
              "<Figure size 432x288 with 1 Axes>"
            ]
          },
          "metadata": {
            "tags": []
          }
        }
      ]
    },
    {
      "cell_type": "code",
      "metadata": {
        "colab": {
          "base_uri": "https://localhost:8080/",
          "height": 319
        },
        "id": "DtkGtySW778m",
        "outputId": "1da3fa3f-cddc-41fb-a0cf-e234ba04c590"
      },
      "source": [
        "print(\"KORELASI ANTARA KOLOM KEUNIKAN - KELAS\")\n",
        "data = df[\"Keunikan\"].corr(df[\"Kelas\"])\n",
        "cor(data)\n",
        "plt.scatter(df.Keunikan, df.Kelas, color = \"red\")\n",
        "plt.xlabel(\"Keunikan\")\n",
        "plt.ylabel(\"Kelas\")\n",
        "plt.show()"
      ],
      "execution_count": 130,
      "outputs": [
        {
          "output_type": "stream",
          "text": [
            "KORELASI ANTARA KOLOM KEUNIKAN - KELAS\n",
            "Terdapat korelasi negatif antara kedua kolom : -0.7304563686511923\n"
          ],
          "name": "stdout"
        },
        {
          "output_type": "display_data",
          "data": {
            "image/png": "[encoded data removed]",
            "text/plain": [
              "<Figure size 432x288 with 1 Axes>"
            ]
          },
          "metadata": {
            "tags": []
          }
        }
      ]
    },
    {
      "cell_type": "code",
      "metadata": {
        "colab": {
          "base_uri": "https://localhost:8080/",
          "height": 319
        },
        "id": "hEX8kCSD8CJt",
        "outputId": "e5844941-5c1f-496e-d3ee-8dc13ae6fad8"
      },
      "source": [
        "print(\"KORELASI ANTARA KOLOM AREA BULATAN - KELAS\")\n",
        "data = df[\"AreaBulatan\"].corr(df[\"Kelas\"])\n",
        "cor(data)\n",
        "plt.scatter(df.AreaBulatan, df.Kelas, color = \"red\")\n",
        "plt.xlabel(\"AreaBulatan\")\n",
        "plt.ylabel(\"Kelas\")\n",
        "plt.show()"
      ],
      "execution_count": 131,
      "outputs": [
        {
          "output_type": "stream",
          "text": [
            "KORELASI ANTARA KOLOM AREA BULATAN - KELAS\n",
            "Terdapat korelasi negatif antara kedua kolom : -0.6073125434153749\n"
          ],
          "name": "stdout"
        },
        {
          "output_type": "display_data",
          "data": {
            "image/png": "[encoded data removed]",
            "text/plain": [
              "<Figure size 432x288 with 1 Axes>"
            ]
          },
          "metadata": {
            "tags": []
          }
        }
      ]
    },
    {
      "cell_type": "code",
      "metadata": {
        "colab": {
          "base_uri": "https://localhost:8080/",
          "height": 319
        },
        "id": "ViuWhYHG8HgS",
        "outputId": "d7f4ef09-b9b0-428a-b46e-f0740e5e4d4a"
      },
      "source": [
        "print(\"KORELASI ANTARA KOLOM DIAMETER - KELAS\")\n",
        "data = df[\"Diameter\"].corr(df[\"Kelas\"])\n",
        "cor(data)\n",
        "plt.scatter(df.Diameter, df.Kelas, color = \"red\")\n",
        "plt.xlabel(\"Diameter\")\n",
        "plt.ylabel(\"Kelas\")\n",
        "plt.show()"
      ],
      "execution_count": 132,
      "outputs": [
        {
          "output_type": "stream",
          "text": [
            "KORELASI ANTARA KOLOM DIAMETER - KELAS\n",
            "Terdapat korelasi negatif antara kedua kolom : -0.6025356896618809\n"
          ],
          "name": "stdout"
        },
        {
          "output_type": "display_data",
          "data": {
            "image/png": "[encoded data removed]",
            "text/plain": [
              "<Figure size 432x288 with 1 Axes>"
            ]
          },
          "metadata": {
            "tags": []
          }
        }
      ]
    },
    {
      "cell_type": "code",
      "metadata": {
        "colab": {
          "base_uri": "https://localhost:8080/",
          "height": 319
        },
        "id": "e_rOg7b28Osm",
        "outputId": "74f344bc-87f1-44b3-e802-7d7cd908f681"
      },
      "source": [
        "print(\"KORELASI ANTARA KOLOM KADAR AIR - KELAS\")\n",
        "data = df[\"KadarAir\"].corr(df[\"Kelas\"])\n",
        "cor(data)\n",
        "plt.scatter(df.KadarAir, df.Kelas, color = \"red\")\n",
        "plt.xlabel(\"KadarAir\")\n",
        "plt.ylabel(\"Kelas\")\n",
        "plt.show()"
      ],
      "execution_count": 133,
      "outputs": [
        {
          "output_type": "stream",
          "text": [
            "KORELASI ANTARA KOLOM KADAR AIR - KELAS\n",
            "Terdapat korelasi positif antara kedua kolom : 0.13434422605727642\n"
          ],
          "name": "stdout"
        },
        {
          "output_type": "display_data",
          "data": {
            "image/png": "[encoded data removed]",
            "text/plain": [
              "<Figure size 432x288 with 1 Axes>"
            ]
          },
          "metadata": {
            "tags": []
          }
        }
      ]
    },
    {
      "cell_type": "code",
      "metadata": {
        "colab": {
          "base_uri": "https://localhost:8080/",
          "height": 319
        },
        "id": "Ca7mIcHX8U7u",
        "outputId": "715d0479-647a-4d09-91f8-8ef082a6e97b"
      },
      "source": [
        "print(\"KORELASI ANTARA KOLOM KELILING - KELAS\")\n",
        "data = df[\"Keliling\"].corr(df[\"Kelas\"])\n",
        "cor(data)\n",
        "plt.scatter(df.Keliling, df.Kelas, color = \"red\")\n",
        "plt.xlabel(\"Keliling\")\n",
        "plt.ylabel(\"Kelas\")\n",
        "plt.show()"
      ],
      "execution_count": 134,
      "outputs": [
        {
          "output_type": "stream",
          "text": [
            "KORELASI ANTARA KOLOM KELILING - KELAS\n",
            "Terdapat korelasi negatif antara kedua kolom : -0.6348607454756854\n"
          ],
          "name": "stdout"
        },
        {
          "output_type": "display_data",
          "data": {
            "image/png": "[encoded data removed]",
            "text/plain": [
              "<Figure size 432x288 with 1 Axes>"
            ]
          },
          "metadata": {
            "tags": []
          }
        }
      ]
    },
    {
      "cell_type": "code",
      "metadata": {
        "colab": {
          "base_uri": "https://localhost:8080/",
          "height": 319
        },
        "id": "h7yNJABq8ZE8",
        "outputId": "37b46683-dd5c-4dc9-daa9-a6c61cd7f288"
      },
      "source": [
        "print(\"KORELASI ANTARA KOLOM BULATAN - KELAS\")\n",
        "data = df[\"Bulatan\"].corr(df[\"Kelas\"])\n",
        "cor(data)\n",
        "plt.scatter(df.Bulatan, df.Kelas, color = \"red\")\n",
        "plt.xlabel(\"Bulatan\")\n",
        "plt.ylabel(\"Kelas\")\n",
        "plt.show()"
      ],
      "execution_count": 135,
      "outputs": [
        {
          "output_type": "stream",
          "text": [
            "KORELASI ANTARA KOLOM BULATAN - KELAS\n",
            "Terdapat korelasi positif antara kedua kolom : 0.5450045317240071\n"
          ],
          "name": "stdout"
        },
        {
          "output_type": "display_data",
          "data": {
            "image/png": "[encoded data removed]",
            "text/plain": [
              "<Figure size 432x288 with 1 Axes>"
            ]
          },
          "metadata": {
            "tags": []
          }
        }
      ]
    },
    {
      "cell_type": "code",
      "metadata": {
        "colab": {
          "base_uri": "https://localhost:8080/",
          "height": 319
        },
        "id": "p3uW1NOt8fAV",
        "outputId": "f6628c5d-f649-4d3e-eadb-c3ac32d619d6"
      },
      "source": [
        "print(\"KORELASI ANTARA KOLOM RANSUM - KELAS\")\n",
        "data = df[\"Ransum\"].corr(df[\"Kelas\"])\n",
        "cor(data)\n",
        "plt.scatter(df.Ransum, df.Kelas, color = \"red\")\n",
        "plt.xlabel(\"Ransum\")\n",
        "plt.ylabel(\"Kelas\")\n",
        "plt.show()"
      ],
      "execution_count": 136,
      "outputs": [
        {
          "output_type": "stream",
          "text": [
            "KORELASI ANTARA KOLOM RANSUM - KELAS\n",
            "Terdapat korelasi negatif antara kedua kolom : -0.8399038681287484\n"
          ],
          "name": "stdout"
        },
        {
          "output_type": "display_data",
          "data": {
            "image/png": "[encoded data removed]",
            "text/plain": [
              "<Figure size 432x288 with 1 Axes>"
            ]
          },
          "metadata": {
            "tags": []
          }
        }
      ]
    }
  ]
}