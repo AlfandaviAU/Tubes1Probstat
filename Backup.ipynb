{
  "nbformat": 4,
  "nbformat_minor": 0,
  "metadata": {
    "colab": {
      "name": "Untitled1.ipynb",
      "provenance": [],
      "collapsed_sections": []
    },
    "kernelspec": {
      "name": "python3",
      "display_name": "Python 3"
    },
    "language_info": {
      "name": "python"
    }
  },
  "cells": [
    {
      "cell_type": "code",
      "metadata": {
        "colab": {
          "base_uri": "https://localhost:8080/"
        },
        "id": "sMogh7BXb4rI",
        "outputId": "374b52cd-7887-4a23-b028-c0879555942b"
      },
      "source": [
        "import pandas as pd\n",
        "\n",
        "# Read filenya\n",
        "df = pd.read_csv (r'Gandum.csv')\n",
        "print(len(df))\n",
        "print (df)\n",
        "\n",
        "\n",
        "def describe(df):\n",
        "    print( pd.concat([df.describe().T,\n",
        "                      df.var().rename('variansi'),\n",
        "                      df.median().rename('median'),\n",
        "                      df.skew().rename('skewness'),\n",
        "                      df.kurt().rename('kurtosis'),\n",
        "                     ], axis=1).T)\n",
        "    print(\"\\nDATA MODUS \")\n",
        "    print(df.mode())\n",
        "\n",
        "    print(\"\\nDATA RANGE \")\n",
        "    minimum = df.min()\n",
        "    maksimum = df.max()\n",
        "    print(maksimum-minimum)\n",
        "\n",
        "    print(\"\\nDATA IQR \")\n",
        "    Q1 = df.quantile(0.25)\n",
        "    Q3 = df.quantile(0.75)\n",
        "    IQR = Q3 - Q1\n",
        "    print(IQR)\n",
        "    \n",
        "\n",
        "describe(df)\n"
      ],
      "execution_count": 3,
      "outputs": [
        {
          "output_type": "stream",
          "text": [
            "500\n",
            "      id  Daerah  SumbuUtama  SumbuKecil  ...  Keliling   Bulatan    Ransum  Kelas\n",
            "0      1    5781  128.288875   58.470846  ...   316.756  0.724041  2.194066      1\n",
            "1      2    4176  109.348294   49.837688  ...   260.346  0.774227  2.194088      1\n",
            "2      3    4555  114.427991   52.151207  ...   279.606  0.732159  2.194158      1\n",
            "3      4    4141  108.701191   49.457349  ...   260.478  0.766960  2.197877      1\n",
            "4      5    5273  122.747869   55.757848  ...   302.730  0.723031  2.201446      1\n",
            "..   ...     ...         ...         ...  ...       ...       ...       ...    ...\n",
            "495  496    5083  120.083450   54.821580  ...   286.377  0.778850  2.190441      2\n",
            "496  497    4432  112.367050   51.294914  ...   270.823  0.759344  2.190608      2\n",
            "497  498    5020  119.873742   54.718545  ...   285.799  0.772311  2.190733      2\n",
            "498  499    4035  107.311728   48.930802  ...   258.503  0.758791  2.193132      2\n",
            "499  500    3379   99.014789   44.631551  ...   237.593  0.752196  2.218493      2\n",
            "\n",
            "[500 rows x 12 columns]\n",
            "                    id         Daerah  ...      Ransum       Kelas\n",
            "count       500.000000     500.000000  ...  500.000000  500.000000\n",
            "mean        250.500000    4801.246000  ...    2.150915    1.502000\n",
            "std         144.481833     986.395491  ...    0.249767    0.500497\n",
            "min           1.000000    2522.000000  ...    1.440796    1.000000\n",
            "25%         125.750000    4042.750000  ...    1.983939    1.000000\n",
            "50%         250.500000    4735.000000  ...    2.193599    2.000000\n",
            "75%         375.250000    5495.500000  ...    2.381612    2.000000\n",
            "max         500.000000    7453.000000  ...    2.464809    2.000000\n",
            "variansi  20875.000000  972976.065615  ...    0.062383    0.250497\n",
            "median      250.500000    4735.000000  ...    2.193599    2.000000\n",
            "skewness      0.000000       0.238144  ...   -0.658188   -0.008024\n",
            "kurtosis     -1.200000      -0.434631  ...   -0.428656   -2.007984\n",
            "\n",
            "[12 rows x 12 columns]\n",
            "\n",
            "DATA MODUS \n",
            "      id  Daerah  SumbuUtama  SumbuKecil  ...  Keliling   Bulatan    Ransum  Kelas\n",
            "0      1  3992.0   74.133114   39.906517  ...   197.015  0.174590  1.440796    2.0\n",
            "1      2  4881.0   74.364021   41.436419  ...   200.587  0.261297  1.453137    NaN\n",
            "2      3  5642.0   74.691881   42.871879  ...   202.456  0.299298  1.465950    NaN\n",
            "3      4  6083.0   76.293164   43.284979  ...   207.325  0.589146  1.483456    NaN\n",
            "4      5     NaN   76.789043   44.119355  ...   207.697  0.603807  1.510000    NaN\n",
            "..   ...     ...         ...         ...  ...       ...       ...       ...    ...\n",
            "495  496     NaN  152.068440   63.322854  ...   375.651  0.872417  2.461017    NaN\n",
            "496  497     NaN  152.113491   63.762307  ...   390.125  0.874243  2.461510    NaN\n",
            "497  498     NaN  153.583387   64.012769  ...   434.235  0.874743  2.463297    NaN\n",
            "498  499     NaN  227.105462   65.738475  ...   448.305  0.891706  2.463546    NaN\n",
            "499  500     NaN  227.928583   68.977700  ...   488.837  0.904748  2.464809    NaN\n",
            "\n",
            "[500 rows x 12 columns]\n",
            "\n",
            "DATA RANGE \n",
            "id              499.000000\n",
            "Daerah         4931.000000\n",
            "SumbuUtama      153.795469\n",
            "SumbuKecil       29.071182\n",
            "Keunikan          0.194085\n",
            "AreaBulatan    5141.000000\n",
            "Diameter         40.747172\n",
            "KadarAir          0.468972\n",
            "Keliling        291.822000\n",
            "Bulatan           0.730158\n",
            "Ransum            1.024013\n",
            "Kelas             1.000000\n",
            "dtype: float64\n",
            "\n",
            "DATA IQR \n",
            "id              249.500000\n",
            "Daerah         1452.750000\n",
            "SumbuUtama       24.930694\n",
            "SumbuKecil        5.131582\n",
            "Keunikan          0.043902\n",
            "AreaBulatan    1484.000000\n",
            "Diameter         11.903290\n",
            "KadarAir          0.154001\n",
            "Keliling         50.179500\n",
            "Bulatan           0.064370\n",
            "Ransum            0.397673\n",
            "Kelas             1.000000\n",
            "dtype: float64\n"
          ],
          "name": "stdout"
        }
      ]
    },
    {
      "cell_type": "code",
      "metadata": {
        "colab": {
          "base_uri": "https://localhost:8080/",
          "height": 282
        },
        "id": "35bnLMkGcGBH",
        "outputId": "baca7ae6-9a01-4e86-a278-afd41b4cc580"
      },
      "source": [
        "df[[\"Daerah\"]].plot(kind=\"hist\",bins=[0,1000,2000,3000,4000,5000,6000,7000,8000,9000,10000],rwidth=0.95, color='red')"
      ],
      "execution_count": 4,
      "outputs": [
        {
          "output_type": "execute_result",
          "data": {
            "text/plain": [
              "<matplotlib.axes._subplots.AxesSubplot at 0x7f89abb99b50>"
            ]
          },
          "metadata": {
            "tags": []
          },
          "execution_count": 4
        },
        {
          "output_type": "display_data",
          "data": {
            "image/png": "[encoded data removed]",
            "text/plain": [
              "<Figure size 432x288 with 1 Axes>"
            ]
          },
          "metadata": {
            "tags": [],
            "needs_background": "light"
          }
        }
      ]
    },
    {
      "cell_type": "code",
      "metadata": {
        "colab": {
          "base_uri": "https://localhost:8080/",
          "height": 282
        },
        "id": "b9fW9q95cy6t",
        "outputId": "d127739a-4c2d-4664-9ebb-a34322b25f82"
      },
      "source": [
        "df.boxplot(column=['Daerah'])"
      ],
      "execution_count": 6,
      "outputs": [
        {
          "output_type": "execute_result",
          "data": {
            "text/plain": [
              "<matplotlib.axes._subplots.AxesSubplot at 0x7f89ab9d8810>"
            ]
          },
          "metadata": {
            "tags": []
          },
          "execution_count": 6
        },
        {
          "output_type": "display_data",
          "data": {
            "image/png": "[encoded data removed]",
            "text/plain": [
              "<Figure size 432x288 with 1 Axes>"
            ]
          },
          "metadata": {
            "tags": [],
            "needs_background": "light"
          }
        }
      ]
    },
    {
      "cell_type": "code",
      "metadata": {
        "colab": {
          "base_uri": "https://localhost:8080/",
          "height": 282
        },
        "id": "r36o5EZBdFVQ",
        "outputId": "69c68364-6d57-4f12-c9c7-da48820aa674"
      },
      "source": [
        "df[[\"SumbuUtama\"]].plot(kind=\"hist\",bins=[0,20,40,60,80,100,120,140,160,180,200],rwidth=0.95, color='orange')"
      ],
      "execution_count": 10,
      "outputs": [
        {
          "output_type": "execute_result",
          "data": {
            "text/plain": [
              "<matplotlib.axes._subplots.AxesSubplot at 0x7f89ab7771d0>"
            ]
          },
          "metadata": {
            "tags": []
          },
          "execution_count": 10
        },
        {
          "output_type": "display_data",
          "data": {
            "image/png": "[encoded data removed]",
            "text/plain": [
              "<Figure size 432x288 with 1 Axes>"
            ]
          },
          "metadata": {
            "tags": [],
            "needs_background": "light"
          }
        }
      ]
    },
    {
      "cell_type": "code",
      "metadata": {
        "colab": {
          "base_uri": "https://localhost:8080/",
          "height": 282
        },
        "id": "TGj3Gw5Iddcs",
        "outputId": "b9374d5c-ace9-444f-8b01-499bb3fb3823"
      },
      "source": [
        "df.boxplot(column=['SumbuUtama'])"
      ],
      "execution_count": 11,
      "outputs": [
        {
          "output_type": "execute_result",
          "data": {
            "text/plain": [
              "<matplotlib.axes._subplots.AxesSubplot at 0x7f89ab701590>"
            ]
          },
          "metadata": {
            "tags": []
          },
          "execution_count": 11
        },
        {
          "output_type": "display_data",
          "data": {
            "image/png": "[encoded data removed]",
            "text/plain": [
              "<Figure size 432x288 with 1 Axes>"
            ]
          },
          "metadata": {
            "tags": [],
            "needs_background": "light"
          }
        }
      ]
    },
    {
      "cell_type": "code",
      "metadata": {
        "colab": {
          "base_uri": "https://localhost:8080/",
          "height": 282
        },
        "id": "-acWtkzhdz8d",
        "outputId": "927d1da9-6379-4e51-a661-4629785d2591"
      },
      "source": [
        "df[[\"SumbuKecil\"]].plot(kind=\"hist\",bins=[0,10,20,30,40,50,60,70,80,90,100],rwidth=0.95, color='blue')"
      ],
      "execution_count": 13,
      "outputs": [
        {
          "output_type": "execute_result",
          "data": {
            "text/plain": [
              "<matplotlib.axes._subplots.AxesSubplot at 0x7f89ab5edb10>"
            ]
          },
          "metadata": {
            "tags": []
          },
          "execution_count": 13
        },
        {
          "output_type": "display_data",
          "data": {
            "image/png": "[encoded data removed]",
            "text/plain": [
              "<Figure size 432x288 with 1 Axes>"
            ]
          },
          "metadata": {
            "tags": [],
            "needs_background": "light"
          }
        }
      ]
    },
    {
      "cell_type": "code",
      "metadata": {
        "colab": {
          "base_uri": "https://localhost:8080/",
          "height": 283
        },
        "id": "ozshphjkeB54",
        "outputId": "b99a8f0e-48e1-40c4-94a6-d9dbc155f67d"
      },
      "source": [
        "df.boxplot(column=['SumbuKecil'])"
      ],
      "execution_count": 14,
      "outputs": [
        {
          "output_type": "execute_result",
          "data": {
            "text/plain": [
              "<matplotlib.axes._subplots.AxesSubplot at 0x7f89ab57a7d0>"
            ]
          },
          "metadata": {
            "tags": []
          },
          "execution_count": 14
        },
        {
          "output_type": "display_data",
          "data": {
            "image/png": "[encoded data removed]",
            "text/plain": [
              "<Figure size 432x288 with 1 Axes>"
            ]
          },
          "metadata": {
            "tags": [],
            "needs_background": "light"
          }
        }
      ]
    },
    {
      "cell_type": "code",
      "metadata": {
        "colab": {
          "base_uri": "https://localhost:8080/",
          "height": 282
        },
        "id": "I0t_PfJ5eEHW",
        "outputId": "632eb6d1-326b-4d7b-8618-64fc412cce3d"
      },
      "source": [
        "df[[\"Keunikan\"]].plot(kind=\"hist\",bins=[0,0.1,0.2,0.3,0.4,0.5,0.6,0.7,0.8,0.9,1],rwidth=0.95, color='green')"
      ],
      "execution_count": 16,
      "outputs": [
        {
          "output_type": "execute_result",
          "data": {
            "text/plain": [
              "<matplotlib.axes._subplots.AxesSubplot at 0x7f89ab2d9f50>"
            ]
          },
          "metadata": {
            "tags": []
          },
          "execution_count": 16
        },
        {
          "output_type": "display_data",
          "data": {
            "image/png": "[encoded data removed]",
            "text/plain": [
              "<Figure size 432x288 with 1 Axes>"
            ]
          },
          "metadata": {
            "tags": [],
            "needs_background": "light"
          }
        }
      ]
    },
    {
      "cell_type": "code",
      "metadata": {
        "colab": {
          "base_uri": "https://localhost:8080/",
          "height": 282
        },
        "id": "fHxWCm_DeW1P",
        "outputId": "38542cef-3cd6-431e-a0d6-5663bd806c6e"
      },
      "source": [
        "df.boxplot(column=['Keunikan'])"
      ],
      "execution_count": 17,
      "outputs": [
        {
          "output_type": "execute_result",
          "data": {
            "text/plain": [
              "<matplotlib.axes._subplots.AxesSubplot at 0x7f89ab25f790>"
            ]
          },
          "metadata": {
            "tags": []
          },
          "execution_count": 17
        },
        {
          "output_type": "display_data",
          "data": {
            "image/png": "[encoded data removed]",
            "text/plain": [
              "<Figure size 432x288 with 1 Axes>"
            ]
          },
          "metadata": {
            "tags": [],
            "needs_background": "light"
          }
        }
      ]
    },
    {
      "cell_type": "code",
      "metadata": {
        "colab": {
          "base_uri": "https://localhost:8080/",
          "height": 282
        },
        "id": "7JFQcwRAez-P",
        "outputId": "9d0d4086-06c5-4dcd-c14d-3fc32c2a7fe7"
      },
      "source": [
        "df[[\"AreaBulatan\"]].plot(kind=\"hist\",bins=[0,1000,2000,3000,4000,5000,6000,7000,8000,9000,10000],rwidth=0.95, color='purple')"
      ],
      "execution_count": 19,
      "outputs": [
        {
          "output_type": "execute_result",
          "data": {
            "text/plain": [
              "<matplotlib.axes._subplots.AxesSubplot at 0x7f89ab2d33d0>"
            ]
          },
          "metadata": {
            "tags": []
          },
          "execution_count": 19
        },
        {
          "output_type": "display_data",
          "data": {
            "image/png": "[encoded data removed]",
            "text/plain": [
              "<Figure size 432x288 with 1 Axes>"
            ]
          },
          "metadata": {
            "tags": [],
            "needs_background": "light"
          }
        }
      ]
    },
    {
      "cell_type": "code",
      "metadata": {
        "colab": {
          "base_uri": "https://localhost:8080/",
          "height": 282
        },
        "id": "rEvAICMIe8yH",
        "outputId": "7a813bc8-16e1-496f-b3b2-fd376b77cd91"
      },
      "source": [
        "df.boxplot(column=['AreaBulatan'])"
      ],
      "execution_count": 20,
      "outputs": [
        {
          "output_type": "execute_result",
          "data": {
            "text/plain": [
              "<matplotlib.axes._subplots.AxesSubplot at 0x7f89ab0f0390>"
            ]
          },
          "metadata": {
            "tags": []
          },
          "execution_count": 20
        },
        {
          "output_type": "display_data",
          "data": {
            "image/png": "[encoded data removed]",
            "text/plain": [
              "<Figure size 432x288 with 1 Axes>"
            ]
          },
          "metadata": {
            "tags": [],
            "needs_background": "light"
          }
        }
      ]
    },
    {
      "cell_type": "code",
      "metadata": {
        "colab": {
          "base_uri": "https://localhost:8080/",
          "height": 282
        },
        "id": "XM1X68Zye-7R",
        "outputId": "ee86d354-ba58-4496-adac-bfd1442936f5"
      },
      "source": [
        "df[[\"Diameter\"]].plot(kind=\"hist\",bins=[0,10,20,30,40,50,60,70,80,90,100],rwidth=0.95, color='gray')"
      ],
      "execution_count": 22,
      "outputs": [
        {
          "output_type": "execute_result",
          "data": {
            "text/plain": [
              "<matplotlib.axes._subplots.AxesSubplot at 0x7f89ab0481d0>"
            ]
          },
          "metadata": {
            "tags": []
          },
          "execution_count": 22
        },
        {
          "output_type": "display_data",
          "data": {
            "image/png": "[encoded data removed]",
            "text/plain": [
              "<Figure size 432x288 with 1 Axes>"
            ]
          },
          "metadata": {
            "tags": [],
            "needs_background": "light"
          }
        }
      ]
    },
    {
      "cell_type": "code",
      "metadata": {
        "colab": {
          "base_uri": "https://localhost:8080/",
          "height": 282
        },
        "id": "KF1ZLs_hfDqC",
        "outputId": "6a41ffc9-3c61-42d7-d955-14d9d549551f"
      },
      "source": [
        "df.boxplot(column=['Diameter'])"
      ],
      "execution_count": 23,
      "outputs": [
        {
          "output_type": "execute_result",
          "data": {
            "text/plain": [
              "<matplotlib.axes._subplots.AxesSubplot at 0x7f89aaf81790>"
            ]
          },
          "metadata": {
            "tags": []
          },
          "execution_count": 23
        },
        {
          "output_type": "display_data",
          "data": {
            "image/png": "[encoded data removed]",
            "text/plain": [
              "<Figure size 432x288 with 1 Axes>"
            ]
          },
          "metadata": {
            "tags": [],
            "needs_background": "light"
          }
        }
      ]
    },
    {
      "cell_type": "code",
      "metadata": {
        "colab": {
          "base_uri": "https://localhost:8080/",
          "height": 282
        },
        "id": "JGMmtBXwfJ0o",
        "outputId": "b6b1cfc0-72f9-473f-fd86-2e38c3d85e8d"
      },
      "source": [
        "df[[\"KadarAir\"]].plot(kind=\"hist\",bins=[0,0.1,0.2,0.3,0.4,0.5,0.6,0.7,0.8,0.9,1],rwidth=0.95, color='cyan')"
      ],
      "execution_count": 24,
      "outputs": [
        {
          "output_type": "execute_result",
          "data": {
            "text/plain": [
              "<matplotlib.axes._subplots.AxesSubplot at 0x7f89ab569fd0>"
            ]
          },
          "metadata": {
            "tags": []
          },
          "execution_count": 24
        },
        {
          "output_type": "display_data",
          "data": {
            "image/png": "[encoded data removed]",
            "text/plain": [
              "<Figure size 432x288 with 1 Axes>"
            ]
          },
          "metadata": {
            "tags": [],
            "needs_background": "light"
          }
        }
      ]
    },
    {
      "cell_type": "code",
      "metadata": {
        "colab": {
          "base_uri": "https://localhost:8080/",
          "height": 285
        },
        "id": "BTVocS0kfOpl",
        "outputId": "aa33397a-acc7-4c0c-a750-91c153eb0ad8"
      },
      "source": [
        "df.boxplot(column=['KadarAir'])"
      ],
      "execution_count": 25,
      "outputs": [
        {
          "output_type": "execute_result",
          "data": {
            "text/plain": [
              "<matplotlib.axes._subplots.AxesSubplot at 0x7f89aaed2e10>"
            ]
          },
          "metadata": {
            "tags": []
          },
          "execution_count": 25
        },
        {
          "output_type": "display_data",
          "data": {
            "image/png": "[encoded data removed]",
            "text/plain": [
              "<Figure size 432x288 with 1 Axes>"
            ]
          },
          "metadata": {
            "tags": [],
            "needs_background": "light"
          }
        }
      ]
    },
    {
      "cell_type": "code",
      "metadata": {
        "colab": {
          "base_uri": "https://localhost:8080/",
          "height": 282
        },
        "id": "6sRTuGHAfTca",
        "outputId": "8cca4693-a5c5-4763-a90b-72a9e245dd60"
      },
      "source": [
        "df[[\"Keliling\"]].plot(kind=\"hist\",bins=[0,50,100,150,200,250,300,350,400,450,500],rwidth=0.95, color='orange')"
      ],
      "execution_count": 26,
      "outputs": [
        {
          "output_type": "execute_result",
          "data": {
            "text/plain": [
              "<matplotlib.axes._subplots.AxesSubplot at 0x7f89aae40150>"
            ]
          },
          "metadata": {
            "tags": []
          },
          "execution_count": 26
        },
        {
          "output_type": "display_data",
          "data": {
            "image/png": "[encoded data removed]",
            "text/plain": [
              "<Figure size 432x288 with 1 Axes>"
            ]
          },
          "metadata": {
            "tags": [],
            "needs_background": "light"
          }
        }
      ]
    },
    {
      "cell_type": "code",
      "metadata": {
        "colab": {
          "base_uri": "https://localhost:8080/",
          "height": 284
        },
        "id": "lgVurK14fhU6",
        "outputId": "c5d01470-b99f-4c28-9343-e3992d737bfb"
      },
      "source": [
        "df.boxplot(column=['Keliling'])"
      ],
      "execution_count": 27,
      "outputs": [
        {
          "output_type": "execute_result",
          "data": {
            "text/plain": [
              "<matplotlib.axes._subplots.AxesSubplot at 0x7f89aadd8210>"
            ]
          },
          "metadata": {
            "tags": []
          },
          "execution_count": 27
        },
        {
          "output_type": "display_data",
          "data": {
            "image/png": "[encoded data removed]",
            "text/plain": [
              "<Figure size 432x288 with 1 Axes>"
            ]
          },
          "metadata": {
            "tags": [],
            "needs_background": "light"
          }
        }
      ]
    },
    {
      "cell_type": "code",
      "metadata": {
        "colab": {
          "base_uri": "https://localhost:8080/",
          "height": 282
        },
        "id": "tjWXGUvWfmdL",
        "outputId": "364c4833-e068-415f-f563-8d088856bd0a"
      },
      "source": [
        "df[[\"Bulatan\"]].plot(kind=\"hist\",bins=[0,0.1,0.2,0.3,0.4,0.5,0.6,0.7,0.8,0.9,1],rwidth=0.95, color='red')"
      ],
      "execution_count": 28,
      "outputs": [
        {
          "output_type": "execute_result",
          "data": {
            "text/plain": [
              "<matplotlib.axes._subplots.AxesSubplot at 0x7f89aad4b890>"
            ]
          },
          "metadata": {
            "tags": []
          },
          "execution_count": 28
        },
        {
          "output_type": "display_data",
          "data": {
            "image/png": "[encoded data removed]",
            "text/plain": [
              "<Figure size 432x288 with 1 Axes>"
            ]
          },
          "metadata": {
            "tags": [],
            "needs_background": "light"
          }
        }
      ]
    },
    {
      "cell_type": "code",
      "metadata": {
        "colab": {
          "base_uri": "https://localhost:8080/",
          "height": 282
        },
        "id": "bQFZO6kGfrmg",
        "outputId": "a076ab82-8a73-42d7-f720-a8ec0c0366b7"
      },
      "source": [
        "df.boxplot(column=['Bulatan'])"
      ],
      "execution_count": 29,
      "outputs": [
        {
          "output_type": "execute_result",
          "data": {
            "text/plain": [
              "<matplotlib.axes._subplots.AxesSubplot at 0x7f89aac5e8d0>"
            ]
          },
          "metadata": {
            "tags": []
          },
          "execution_count": 29
        },
        {
          "output_type": "display_data",
          "data": {
            "image/png": "[encoded data removed]",
            "text/plain": [
              "<Figure size 432x288 with 1 Axes>"
            ]
          },
          "metadata": {
            "tags": [],
            "needs_background": "light"
          }
        }
      ]
    },
    {
      "cell_type": "code",
      "metadata": {
        "colab": {
          "base_uri": "https://localhost:8080/",
          "height": 282
        },
        "id": "YGCQQKHpfuTQ",
        "outputId": "94b32063-15fc-49d5-e2f1-40178b251fa3"
      },
      "source": [
        "df[[\"Ransum\"]].plot(kind=\"hist\",bins=[1.4,1.5,1.6,1.7,1.8,1.9,2,2.1,2.2,2.3,2.4,2.5],rwidth=0.95, color='green')"
      ],
      "execution_count": 36,
      "outputs": [
        {
          "output_type": "execute_result",
          "data": {
            "text/plain": [
              "<matplotlib.axes._subplots.AxesSubplot at 0x7f89aa8ac350>"
            ]
          },
          "metadata": {
            "tags": []
          },
          "execution_count": 36
        },
        {
          "output_type": "display_data",
          "data": {
            "image/png": "[encoded data removed]",
            "text/plain": [
              "<Figure size 432x288 with 1 Axes>"
            ]
          },
          "metadata": {
            "tags": [],
            "needs_background": "light"
          }
        }
      ]
    },
    {
      "cell_type": "code",
      "metadata": {
        "colab": {
          "base_uri": "https://localhost:8080/",
          "height": 282
        },
        "id": "AcVtb2Vegka3",
        "outputId": "a75368f0-4728-4503-e217-94c2ee38cd03"
      },
      "source": [
        "df.boxplot(column=['Ransum'])"
      ],
      "execution_count": 37,
      "outputs": [
        {
          "output_type": "execute_result",
          "data": {
            "text/plain": [
              "<matplotlib.axes._subplots.AxesSubplot at 0x7f89aa8acc10>"
            ]
          },
          "metadata": {
            "tags": []
          },
          "execution_count": 37
        },
        {
          "output_type": "display_data",
          "data": {
            "image/png": "[encoded data removed]",
            "text/plain": [
              "<Figure size 432x288 with 1 Axes>"
            ]
          },
          "metadata": {
            "tags": [],
            "needs_background": "light"
          }
        }
      ]
    }
  ]
}